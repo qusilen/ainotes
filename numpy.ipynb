{
 "cells": [
  {
   "cell_type": "code",
   "execution_count": 4,
   "id": "35c05b87-bcce-4818-bb83-80c663b86458",
   "metadata": {
    "tags": []
   },
   "outputs": [
    {
     "name": "stdout",
     "output_type": "stream",
     "text": [
      "hello\n"
     ]
    }
   ],
   "source": [
    "print(\"hello\")"
   ]
  },
  {
   "cell_type": "code",
   "execution_count": 5,
   "id": "e6d5ec12-f6b2-4ab0-a6ec-fb6820322435",
   "metadata": {
    "tags": []
   },
   "outputs": [],
   "source": [
    "import numpy as np"
   ]
  },
  {
   "cell_type": "code",
   "execution_count": 6,
   "id": "3a28e849-deae-49d3-90d0-f0ca1c1456bd",
   "metadata": {
    "tags": []
   },
   "outputs": [
    {
     "name": "stdin",
     "output_type": "stream",
     "text": [
      " 1\n"
     ]
    }
   ],
   "source": [
    "a = input()"
   ]
  },
  {
   "cell_type": "code",
   "execution_count": 5,
   "id": "b9e62f19-a390-42f2-a584-32ef6d3f2dd8",
   "metadata": {
    "tags": []
   },
   "outputs": [
    {
     "data": {
      "text/plain": [
       "'12'"
      ]
     },
     "execution_count": 5,
     "metadata": {},
     "output_type": "execute_result"
    }
   ],
   "source": [
    "a"
   ]
  },
  {
   "cell_type": "code",
   "execution_count": 6,
   "id": "892b266a-935d-483c-a35a-264f1ca05b61",
   "metadata": {
    "tags": []
   },
   "outputs": [
    {
     "name": "stdin",
     "output_type": "stream",
     "text": [
      " 4\n"
     ]
    }
   ],
   "source": [
    "b = int(input())"
   ]
  },
  {
   "cell_type": "code",
   "execution_count": 7,
   "id": "0e798225-54c1-49a6-84d2-b285722b01c4",
   "metadata": {
    "tags": []
   },
   "outputs": [
    {
     "data": {
      "text/plain": [
       "4"
      ]
     },
     "execution_count": 7,
     "metadata": {},
     "output_type": "execute_result"
    }
   ],
   "source": [
    "b"
   ]
  },
  {
   "cell_type": "code",
   "execution_count": 9,
   "id": "710dea38-b3e1-44a1-8ad8-2a40bbd96100",
   "metadata": {
    "tags": []
   },
   "outputs": [
    {
     "name": "stdin",
     "output_type": "stream",
     "text": [
      " 12 4\n"
     ]
    }
   ],
   "source": [
    "n, m = map(int, input().split())"
   ]
  },
  {
   "cell_type": "code",
   "execution_count": 10,
   "id": "d0c362fe-6f37-4749-91c7-9d3eb8cb45ea",
   "metadata": {
    "tags": []
   },
   "outputs": [
    {
     "data": {
      "text/plain": [
       "12"
      ]
     },
     "execution_count": 10,
     "metadata": {},
     "output_type": "execute_result"
    }
   ],
   "source": [
    "n"
   ]
  },
  {
   "cell_type": "code",
   "execution_count": 11,
   "id": "a363c4f7-da56-49d5-84af-7413e7ef8ec1",
   "metadata": {
    "tags": []
   },
   "outputs": [
    {
     "data": {
      "text/plain": [
       "4"
      ]
     },
     "execution_count": 11,
     "metadata": {},
     "output_type": "execute_result"
    }
   ],
   "source": [
    "m"
   ]
  },
  {
   "cell_type": "code",
   "execution_count": 17,
   "id": "d78f87a3-e8ff-4fa6-89dc-8cafbc9b0c99",
   "metadata": {
    "tags": []
   },
   "outputs": [
    {
     "name": "stdin",
     "output_type": "stream",
     "text": [
      " 2 2\n",
      " 1 1 1\n",
      " 1 1 1\n"
     ]
    },
    {
     "name": "stdout",
     "output_type": "stream",
     "text": [
      "[[1 1 1]\n",
      " [1 1 1]]\n"
     ]
    }
   ],
   "source": [
    "x, y = map(int, input().split())\n",
    "\n",
    "data = []\n",
    "for _ in range (x):\n",
    "    row = list(map(int, input().split()))\n",
    "    data.append(row)\n",
    "    \n",
    "array = np.array(data)\n",
    "print(array)"
   ]
  },
  {
   "cell_type": "code",
   "execution_count": 19,
   "id": "c93887c3-d7af-46a3-87fe-feaa3edaa2be",
   "metadata": {
    "tags": []
   },
   "outputs": [
    {
     "data": {
      "text/plain": [
       "array([ 0,  1,  2,  3,  4,  5,  6,  7,  8,  9, 10, 11, 12, 13, 14, 15, 16,\n",
       "       17, 18, 19, 20, 21, 22, 23, 24, 25, 26, 27, 28, 29])"
      ]
     },
     "execution_count": 19,
     "metadata": {},
     "output_type": "execute_result"
    }
   ],
   "source": [
    "my_array = np.arange(30)\n",
    "my_array"
   ]
  },
  {
   "cell_type": "code",
   "execution_count": 20,
   "id": "335e391c-c70b-450b-bced-02ec10a16540",
   "metadata": {
    "tags": []
   },
   "outputs": [
    {
     "data": {
      "text/plain": [
       "(30,)"
      ]
     },
     "execution_count": 20,
     "metadata": {},
     "output_type": "execute_result"
    }
   ],
   "source": [
    "np.shape(my_array)"
   ]
  },
  {
   "cell_type": "code",
   "execution_count": 21,
   "id": "f13244c0-a605-41a8-8f20-38caad227912",
   "metadata": {
    "tags": []
   },
   "outputs": [
    {
     "data": {
      "text/plain": [
       "30"
      ]
     },
     "execution_count": 21,
     "metadata": {},
     "output_type": "execute_result"
    }
   ],
   "source": [
    "np.size(my_array)"
   ]
  },
  {
   "cell_type": "code",
   "execution_count": 22,
   "id": "c6871192-657a-462b-bf06-ef86cc14a8c0",
   "metadata": {
    "tags": []
   },
   "outputs": [
    {
     "data": {
      "text/plain": [
       "1"
      ]
     },
     "execution_count": 22,
     "metadata": {},
     "output_type": "execute_result"
    }
   ],
   "source": [
    "np.ndim(my_array)"
   ]
  },
  {
   "cell_type": "code",
   "execution_count": 28,
   "id": "8dcc3fe6-b4c8-4526-a875-8a04fbdbf293",
   "metadata": {
    "tags": []
   },
   "outputs": [
    {
     "data": {
      "text/plain": [
       "array([[ 0,  1,  2,  3,  4,  5,  6,  7,  8,  9],\n",
       "       [10, 11, 12, 13, 14, 15, 16, 17, 18, 19],\n",
       "       [20, 21, 22, 23, 24, 25, 26, 27, 28, 29]])"
      ]
     },
     "execution_count": 28,
     "metadata": {},
     "output_type": "execute_result"
    }
   ],
   "source": [
    "arr = my_array.reshape(3,10)\n",
    "arr"
   ]
  },
  {
   "cell_type": "code",
   "execution_count": 32,
   "id": "20d529b5-aba5-4864-b94a-ae6a007ec073",
   "metadata": {
    "tags": []
   },
   "outputs": [
    {
     "data": {
      "text/plain": [
       "array([[1, 2],\n",
       "       [3, 4]])"
      ]
     },
     "execution_count": 32,
     "metadata": {},
     "output_type": "execute_result"
    }
   ],
   "source": [
    "a1 = np.array([[1, 2],\n",
    "              [3, 4]])\n",
    "a2 = np.array([[5, 6],\n",
    "              [7, 8]])\n",
    "a1"
   ]
  },
  {
   "cell_type": "code",
   "execution_count": 36,
   "id": "d92b49bc-db89-4f5a-85b4-0355cc9f4bc0",
   "metadata": {
    "tags": []
   },
   "outputs": [
    {
     "data": {
      "text/plain": [
       "array([[1, 2],\n",
       "       [3, 4],\n",
       "       [5, 6],\n",
       "       [7, 8]])"
      ]
     },
     "execution_count": 36,
     "metadata": {},
     "output_type": "execute_result"
    }
   ],
   "source": [
    "np.vstack((a1, a2)) #vertically stack"
   ]
  },
  {
   "cell_type": "code",
   "execution_count": 37,
   "id": "f0afe799-0df2-4ade-86a6-33b41b6bcd3c",
   "metadata": {
    "tags": []
   },
   "outputs": [
    {
     "data": {
      "text/plain": [
       "array([[1, 2, 5, 6],\n",
       "       [3, 4, 7, 8]])"
      ]
     },
     "execution_count": 37,
     "metadata": {},
     "output_type": "execute_result"
    }
   ],
   "source": [
    "np.hstack((a1, a2)) #horizontally stack"
   ]
  },
  {
   "cell_type": "code",
   "execution_count": 7,
   "id": "95146f84-e0a5-4404-acb0-de2c0cd4a423",
   "metadata": {
    "tags": []
   },
   "outputs": [
    {
     "data": {
      "text/plain": [
       "array([[ 1,  2,  3,  4,  5,  6,  7,  8,  9, 10, 11, 12],\n",
       "       [13, 14, 15, 16, 17, 18, 19, 20, 21, 22, 23, 24]])"
      ]
     },
     "execution_count": 7,
     "metadata": {},
     "output_type": "execute_result"
    }
   ],
   "source": [
    "e = np.arange(1, 25).reshape(2, 12)\n",
    "e"
   ]
  },
  {
   "cell_type": "markdown",
   "id": "b40f5ae2-056d-4049-bc3e-db6bc3c8e45d",
   "metadata": {
    "tags": []
   },
   "source": [
    "axis=0 yukaridan asagi\n",
    "axis=1 soldan saga"
   ]
  },
  {
   "cell_type": "code",
   "execution_count": 8,
   "id": "04671d94-b675-4e70-ad34-be4050e04909",
   "metadata": {
    "tags": []
   },
   "outputs": [
    {
     "data": {
      "text/plain": [
       "24"
      ]
     },
     "execution_count": 8,
     "metadata": {},
     "output_type": "execute_result"
    }
   ],
   "source": [
    "e.max()"
   ]
  },
  {
   "cell_type": "code",
   "execution_count": 9,
   "id": "f8a73f3b-fb2b-4b21-8689-3f05e1a49832",
   "metadata": {
    "tags": []
   },
   "outputs": [
    {
     "data": {
      "text/plain": [
       "1"
      ]
     },
     "execution_count": 9,
     "metadata": {},
     "output_type": "execute_result"
    }
   ],
   "source": [
    "e.min()"
   ]
  },
  {
   "cell_type": "code",
   "execution_count": 10,
   "id": "df69eb62-7ac9-4561-9a51-5d386a2a44c3",
   "metadata": {
    "tags": []
   },
   "outputs": [
    {
     "data": {
      "text/plain": [
       "300"
      ]
     },
     "execution_count": 10,
     "metadata": {},
     "output_type": "execute_result"
    }
   ],
   "source": [
    "e.sum()"
   ]
  },
  {
   "cell_type": "code",
   "execution_count": 15,
   "id": "5a70d578-017d-4e3e-8f27-03ef2a1c02b8",
   "metadata": {
    "tags": []
   },
   "outputs": [
    {
     "data": {
      "text/plain": [
       "array([[ 4,  5],\n",
       "       [16, 17]])"
      ]
     },
     "execution_count": 15,
     "metadata": {},
     "output_type": "execute_result"
    }
   ],
   "source": [
    "e[0:2, 3:5] #[satir, sutun]"
   ]
  },
  {
   "cell_type": "code",
   "execution_count": 16,
   "id": "7eb6f04b-abfa-4e5e-8989-16953c56a9b5",
   "metadata": {
    "tags": []
   },
   "outputs": [
    {
     "data": {
      "text/plain": [
       "array([0.18170013, 0.09171011, 0.51188446])"
      ]
     },
     "execution_count": 16,
     "metadata": {},
     "output_type": "execute_result"
    }
   ],
   "source": [
    "rng = np.random.default_rng()  \n",
    "rng.random(3) "
   ]
  },
  {
   "cell_type": "code",
   "execution_count": 17,
   "id": "4a6af577-ca87-4af9-86b3-ae720ff5b441",
   "metadata": {
    "tags": []
   },
   "outputs": [
    {
     "data": {
      "text/plain": [
       "array([0.23261201, 0.15974593, 0.74381514, 0.36572006, 0.35017272,\n",
       "       0.04812174])"
      ]
     },
     "execution_count": 17,
     "metadata": {},
     "output_type": "execute_result"
    }
   ],
   "source": [
    "rng.random(6)"
   ]
  },
  {
   "cell_type": "code",
   "execution_count": 22,
   "id": "748bc023-ffee-4371-86c7-b865c839e130",
   "metadata": {
    "tags": []
   },
   "outputs": [
    {
     "data": {
      "text/plain": [
       "array([[8, 8, 3],\n",
       "       [1, 9, 1]], dtype=int64)"
      ]
     },
     "execution_count": 22,
     "metadata": {},
     "output_type": "execute_result"
    }
   ],
   "source": [
    "narr = rng.integers(12, size = (2,3))\n",
    "narr"
   ]
  },
  {
   "cell_type": "code",
   "execution_count": 23,
   "id": "b460a3e9-8f71-47cf-aea2-67c0d37e12b4",
   "metadata": {
    "tags": []
   },
   "outputs": [
    {
     "data": {
      "text/plain": [
       "array([1, 3, 8, 9], dtype=int64)"
      ]
     },
     "execution_count": 23,
     "metadata": {},
     "output_type": "execute_result"
    }
   ],
   "source": [
    "np.unique(narr)"
   ]
  },
  {
   "cell_type": "markdown",
   "id": "5be7192f-f1e6-4bcd-aae1-a2165f8f113b",
   "metadata": {},
   "source": [
    " return_index=True dediğin için, bu benzersiz elemanlardan her biri dizide ilk nerede görülmüş, onun indekslerini döndürüyor."
   ]
  },
  {
   "cell_type": "code",
   "execution_count": 25,
   "id": "03733fbe-48f4-4bbf-8dcd-dee90053c735",
   "metadata": {
    "tags": []
   },
   "outputs": [
    {
     "name": "stdout",
     "output_type": "stream",
     "text": [
      "[3 2 0 4]\n"
     ]
    }
   ],
   "source": [
    "unique_values, indices_list = np.unique(narr, return_index=True)\n",
    "print(indices_list)"
   ]
  },
  {
   "cell_type": "markdown",
   "id": "98b7ae69-e73d-466b-9da5-bcdebc957cf6",
   "metadata": {},
   "source": [
    "farkli valuelardan array icinde kacar tane oldugunu dondurur."
   ]
  },
  {
   "cell_type": "code",
   "execution_count": 28,
   "id": "b6663da9-74c5-4cb4-9e3c-ae119bab77bb",
   "metadata": {
    "tags": []
   },
   "outputs": [
    {
     "name": "stdout",
     "output_type": "stream",
     "text": [
      "[2 1 2 1]\n"
     ]
    }
   ],
   "source": [
    "unique_values, occurrence_count = np.unique(narr, return_counts=True)\n",
    "print(occurrence_count)"
   ]
  },
  {
   "cell_type": "markdown",
   "id": "bec9f147-765e-4938-b439-beb400144945",
   "metadata": {},
   "source": [
    "Bütün farklı satırları bulup, hangi sırada ilk kez karşılaştığını ve kaç kez tekrarlandığını söylüyor.\n",
    "Yani np.unique(axis=0) burada satırları kontrol ediyor!\n",
    "return_index=True → İlk nerede görüldü?\n",
    "return_counts=True → Kaç kere geçti?"
   ]
  },
  {
   "cell_type": "code",
   "execution_count": 29,
   "id": "c1b7f086-78e0-4178-bb74-c461b3d42cbd",
   "metadata": {
    "tags": []
   },
   "outputs": [
    {
     "name": "stdout",
     "output_type": "stream",
     "text": [
      "Unique Rows:\n",
      " [[ 1  2  3  4]\n",
      " [ 5  6  7  8]\n",
      " [ 9 10 11 12]]\n",
      "Indices: [0 1 3]\n",
      "Occurrence Counts: [2 1 1]\n"
     ]
    }
   ],
   "source": [
    "a_2d = np.array([\n",
    "    [1, 2, 3, 4],\n",
    "    [5, 6, 7, 8],\n",
    "    [1, 2, 3, 4],   # Bak bu satır yukarıdaki ile aynı\n",
    "    [9,10,11,12]\n",
    "])\n",
    "\n",
    "unique_rows, indices, occurrence_count = np.unique(\n",
    "    a_2d, axis=0, return_counts=True, return_index=True)\n",
    "\n",
    "print(\"Unique Rows:\\n\", unique_rows)\n",
    "print(\"Indices:\", indices)\n",
    "print(\"Occurrence Counts:\", occurrence_count)"
   ]
  },
  {
   "cell_type": "code",
   "execution_count": 31,
   "id": "68ab028c-3004-459b-a3b1-907c9a209ccc",
   "metadata": {
    "collapsed": true,
    "jupyter": {
     "outputs_hidden": true
    },
    "tags": []
   },
   "outputs": [
    {
     "name": "stdout",
     "output_type": "stream",
     "text": [
      "Help on built-in function max in module builtins:\n",
      "\n",
      "max(...)\n",
      "    max(iterable, *[, default=obj, key=func]) -> value\n",
      "    max(arg1, arg2, *args, *[, key=func]) -> value\n",
      "    \n",
      "    With a single iterable argument, return its biggest item. The\n",
      "    default keyword-only argument specifies an object to return if\n",
      "    the provided iterable is empty.\n",
      "    With two or more arguments, return the largest argument.\n",
      "\n"
     ]
    }
   ],
   "source": [
    "help(max)"
   ]
  },
  {
   "cell_type": "code",
   "execution_count": 35,
   "id": "1fcea92b-7bd4-43ac-8669-76d0881b566e",
   "metadata": {
    "collapsed": true,
    "jupyter": {
     "outputs_hidden": true
    },
    "tags": []
   },
   "outputs": [
    {
     "name": "stdout",
     "output_type": "stream",
     "text": [
      "Help on function ravel in module numpy:\n",
      "\n",
      "ravel(a, order='C')\n",
      "    Return a contiguous flattened array.\n",
      "    \n",
      "    A 1-D array, containing the elements of the input, is returned.  A copy is\n",
      "    made only if needed.\n",
      "    \n",
      "    As of NumPy 1.10, the returned array will have the same type as the input\n",
      "    array. (for example, a masked array will be returned for a masked array\n",
      "    input)\n",
      "    \n",
      "    Parameters\n",
      "    ----------\n",
      "    a : array_like\n",
      "        Input array.  The elements in `a` are read in the order specified by\n",
      "        `order`, and packed as a 1-D array.\n",
      "    order : {'C','F', 'A', 'K'}, optional\n",
      "    \n",
      "        The elements of `a` are read using this index order. 'C' means\n",
      "        to index the elements in row-major, C-style order,\n",
      "        with the last axis index changing fastest, back to the first\n",
      "        axis index changing slowest.  'F' means to index the elements\n",
      "        in column-major, Fortran-style order, with the\n",
      "        first index changing fastest, and the last index changing\n",
      "        slowest. Note that the 'C' and 'F' options take no account of\n",
      "        the memory layout of the underlying array, and only refer to\n",
      "        the order of axis indexing.  'A' means to read the elements in\n",
      "        Fortran-like index order if `a` is Fortran *contiguous* in\n",
      "        memory, C-like order otherwise.  'K' means to read the\n",
      "        elements in the order they occur in memory, except for\n",
      "        reversing the data when strides are negative.  By default, 'C'\n",
      "        index order is used.\n",
      "    \n",
      "    Returns\n",
      "    -------\n",
      "    y : array_like\n",
      "        y is an array of the same subtype as `a`, with shape ``(a.size,)``.\n",
      "        Note that matrices are special cased for backward compatibility, if `a`\n",
      "        is a matrix, then y is a 1-D ndarray.\n",
      "    \n",
      "    See Also\n",
      "    --------\n",
      "    ndarray.flat : 1-D iterator over an array.\n",
      "    ndarray.flatten : 1-D array copy of the elements of an array\n",
      "                      in row-major order.\n",
      "    ndarray.reshape : Change the shape of an array without changing its data.\n",
      "    \n",
      "    Notes\n",
      "    -----\n",
      "    In row-major, C-style order, in two dimensions, the row index\n",
      "    varies the slowest, and the column index the quickest.  This can\n",
      "    be generalized to multiple dimensions, where row-major order\n",
      "    implies that the index along the first axis varies slowest, and\n",
      "    the index along the last quickest.  The opposite holds for\n",
      "    column-major, Fortran-style index ordering.\n",
      "    \n",
      "    When a view is desired in as many cases as possible, ``arr.reshape(-1)``\n",
      "    may be preferable.\n",
      "    \n",
      "    Examples\n",
      "    --------\n",
      "    It is equivalent to ``reshape(-1, order=order)``.\n",
      "    \n",
      "    >>> x = np.array([[1, 2, 3], [4, 5, 6]])\n",
      "    >>> np.ravel(x)\n",
      "    array([1, 2, 3, 4, 5, 6])\n",
      "    \n",
      "    >>> x.reshape(-1)\n",
      "    array([1, 2, 3, 4, 5, 6])\n",
      "    \n",
      "    >>> np.ravel(x, order='F')\n",
      "    array([1, 4, 2, 5, 3, 6])\n",
      "    \n",
      "    When ``order`` is 'A', it will preserve the array's 'C' or 'F' ordering:\n",
      "    \n",
      "    >>> np.ravel(x.T)\n",
      "    array([1, 4, 2, 5, 3, 6])\n",
      "    >>> np.ravel(x.T, order='A')\n",
      "    array([1, 2, 3, 4, 5, 6])\n",
      "    \n",
      "    When ``order`` is 'K', it will preserve orderings that are neither 'C'\n",
      "    nor 'F', but won't reverse axes:\n",
      "    \n",
      "    >>> a = np.arange(3)[::-1]; a\n",
      "    array([2, 1, 0])\n",
      "    >>> a.ravel(order='C')\n",
      "    array([2, 1, 0])\n",
      "    >>> a.ravel(order='K')\n",
      "    array([2, 1, 0])\n",
      "    \n",
      "    >>> a = np.arange(12).reshape(2,3,2).swapaxes(1,2); a\n",
      "    array([[[ 0,  2,  4],\n",
      "            [ 1,  3,  5]],\n",
      "           [[ 6,  8, 10],\n",
      "            [ 7,  9, 11]]])\n",
      "    >>> a.ravel(order='C')\n",
      "    array([ 0,  2,  4,  1,  3,  5,  6,  8, 10,  7,  9, 11])\n",
      "    >>> a.ravel(order='K')\n",
      "    array([ 0,  1,  2,  3,  4,  5,  6,  7,  8,  9, 10, 11])\n",
      "\n"
     ]
    }
   ],
   "source": [
    "help(np.ravel)"
   ]
  },
  {
   "cell_type": "code",
   "execution_count": 39,
   "id": "aab2bca3-02a5-4e04-ad68-9c38bc231290",
   "metadata": {
    "collapsed": true,
    "jupyter": {
     "outputs_hidden": true
    },
    "tags": []
   },
   "outputs": [
    {
     "name": "stdout",
     "output_type": "stream",
     "text": [
      "Help on built-in function flatten:\n",
      "\n",
      "flatten(...) method of numpy.ndarray instance\n",
      "    a.flatten(order='C')\n",
      "    \n",
      "    Return a copy of the array collapsed into one dimension.\n",
      "    \n",
      "    Parameters\n",
      "    ----------\n",
      "    order : {'C', 'F', 'A', 'K'}, optional\n",
      "        'C' means to flatten in row-major (C-style) order.\n",
      "        'F' means to flatten in column-major (Fortran-\n",
      "        style) order. 'A' means to flatten in column-major\n",
      "        order if `a` is Fortran *contiguous* in memory,\n",
      "        row-major order otherwise. 'K' means to flatten\n",
      "        `a` in the order the elements occur in memory.\n",
      "        The default is 'C'.\n",
      "    \n",
      "    Returns\n",
      "    -------\n",
      "    y : ndarray\n",
      "        A copy of the input array, flattened to one dimension.\n",
      "    \n",
      "    See Also\n",
      "    --------\n",
      "    ravel : Return a flattened array.\n",
      "    flat : A 1-D flat iterator over the array.\n",
      "    \n",
      "    Examples\n",
      "    --------\n",
      "    >>> a = np.array([[1,2], [3,4]])\n",
      "    >>> a.flatten()\n",
      "    array([1, 2, 3, 4])\n",
      "    >>> a.flatten('F')\n",
      "    array([1, 3, 2, 4])\n",
      "\n"
     ]
    }
   ],
   "source": [
    "help(e.flatten)"
   ]
  },
  {
   "cell_type": "code",
   "execution_count": 40,
   "id": "10ca3370-68d0-4916-833e-f4193739c916",
   "metadata": {
    "collapsed": true,
    "jupyter": {
     "outputs_hidden": true
    },
    "tags": []
   },
   "outputs": [
    {
     "data": {
      "text/plain": [
       "\u001b[1;31mDocstring:\u001b[0m\n",
       "min(iterable, *[, default=obj, key=func]) -> value\n",
       "min(arg1, arg2, *args, *[, key=func]) -> value\n",
       "\n",
       "With a single iterable argument, return its smallest item. The\n",
       "default keyword-only argument specifies an object to return if\n",
       "the provided iterable is empty.\n",
       "With two or more arguments, return the smallest argument.\n",
       "\u001b[1;31mType:\u001b[0m      builtin_function_or_method"
      ]
     },
     "metadata": {},
     "output_type": "display_data"
    }
   ],
   "source": [
    "?min"
   ]
  },
  {
   "cell_type": "code",
   "execution_count": 41,
   "id": "fef21b51-4a66-45ed-95ed-66ae07c4b167",
   "metadata": {
    "collapsed": true,
    "jupyter": {
     "outputs_hidden": true
    },
    "tags": []
   },
   "outputs": [
    {
     "data": {
      "text/plain": [
       "\u001b[1;31mSignature:\u001b[0m \u001b[0msum\u001b[0m\u001b[1;33m(\u001b[0m\u001b[0miterable\u001b[0m\u001b[1;33m,\u001b[0m \u001b[1;33m/\u001b[0m\u001b[1;33m,\u001b[0m \u001b[0mstart\u001b[0m\u001b[1;33m=\u001b[0m\u001b[1;36m0\u001b[0m\u001b[1;33m)\u001b[0m\u001b[1;33m\u001b[0m\u001b[1;33m\u001b[0m\u001b[0m\n",
       "\u001b[1;31mDocstring:\u001b[0m\n",
       "Return the sum of a 'start' value (default: 0) plus an iterable of numbers\n",
       "\n",
       "When the iterable is empty, return the start value.\n",
       "This function is intended specifically for use with numeric values and may\n",
       "reject non-numeric types.\n",
       "\u001b[1;31mType:\u001b[0m      builtin_function_or_method"
      ]
     },
     "metadata": {},
     "output_type": "display_data"
    }
   ],
   "source": [
    "??sum"
   ]
  },
  {
   "cell_type": "markdown",
   "id": "7fc7034f-383d-4365-9a2e-f4e8e5011f0e",
   "metadata": {},
   "source": [
    "NumPy Doc \n",
    "https://numpy.org/devdocs/user/absolute_beginners.html"
   ]
  },
  {
   "cell_type": "code",
   "execution_count": 43,
   "id": "60c9b646-3991-4d5f-b2ac-67861a980aa8",
   "metadata": {
    "tags": []
   },
   "outputs": [
    {
     "data": {
      "text/plain": [
       "array([[3, 8, 1],\n",
       "       [6, 9, 4],\n",
       "       [4, 7, 7]])"
      ]
     },
     "execution_count": 43,
     "metadata": {},
     "output_type": "execute_result"
    }
   ],
   "source": [
    "test = np.random.randint(1, 10, size = (3, 3))\n",
    "test"
   ]
  },
  {
   "cell_type": "code",
   "execution_count": 44,
   "id": "f16615fd-e61c-4e59-887e-c16c8a355e84",
   "metadata": {
    "tags": []
   },
   "outputs": [
    {
     "data": {
      "text/plain": [
       "9"
      ]
     },
     "execution_count": 44,
     "metadata": {},
     "output_type": "execute_result"
    }
   ],
   "source": [
    "np.max(test)"
   ]
  },
  {
   "cell_type": "code",
   "execution_count": 45,
   "id": "d7499f1b-debd-41c8-bd0c-9e1f940c4438",
   "metadata": {
    "tags": []
   },
   "outputs": [
    {
     "data": {
      "text/plain": [
       "1"
      ]
     },
     "execution_count": 45,
     "metadata": {},
     "output_type": "execute_result"
    }
   ],
   "source": [
    "np.min(test)"
   ]
  },
  {
   "cell_type": "code",
   "execution_count": 46,
   "id": "d9f23b95-a51f-4c8a-b128-5367e32f720d",
   "metadata": {
    "tags": []
   },
   "outputs": [
    {
     "data": {
      "text/plain": [
       "2.454524670486058"
      ]
     },
     "execution_count": 46,
     "metadata": {},
     "output_type": "execute_result"
    }
   ],
   "source": [
    "np.std(test)"
   ]
  },
  {
   "cell_type": "code",
   "execution_count": 47,
   "id": "1b593159-d659-490c-b1f6-58179d7959df",
   "metadata": {
    "tags": []
   },
   "outputs": [
    {
     "data": {
      "text/plain": [
       "5.444444444444445"
      ]
     },
     "execution_count": 47,
     "metadata": {},
     "output_type": "execute_result"
    }
   ],
   "source": [
    "np.mean(test)"
   ]
  },
  {
   "cell_type": "code",
   "execution_count": 48,
   "id": "3e9b0622-4a18-4a81-a44e-c4a14583edfb",
   "metadata": {
    "tags": []
   },
   "outputs": [],
   "source": [
    "new = np.random.randint(1, 26, size = (5, 5))"
   ]
  },
  {
   "cell_type": "code",
   "execution_count": 49,
   "id": "2aa9d003-c883-4bdb-9ae5-fdbd39a271cb",
   "metadata": {
    "tags": []
   },
   "outputs": [
    {
     "data": {
      "text/plain": [
       "array([[ 5,  6, 10, 21,  3],\n",
       "       [24, 20,  8, 13, 18],\n",
       "       [25, 12, 11, 23, 23],\n",
       "       [ 8,  8, 22, 20, 10],\n",
       "       [17, 10, 14, 14,  7]])"
      ]
     },
     "execution_count": 49,
     "metadata": {},
     "output_type": "execute_result"
    }
   ],
   "source": [
    "new"
   ]
  },
  {
   "cell_type": "code",
   "execution_count": 50,
   "id": "ac5dbc1d-29f0-4309-9743-cc4fbfce14fa",
   "metadata": {
    "tags": []
   },
   "outputs": [
    {
     "data": {
      "text/plain": [
       "25"
      ]
     },
     "execution_count": 50,
     "metadata": {},
     "output_type": "execute_result"
    }
   ],
   "source": [
    "np.max(new)"
   ]
  },
  {
   "cell_type": "code",
   "execution_count": 51,
   "id": "dd141236-05ef-42a6-ae82-d35957ceb2cd",
   "metadata": {
    "tags": []
   },
   "outputs": [],
   "source": [
    "bmean = np.mean(new) > new"
   ]
  },
  {
   "cell_type": "code",
   "execution_count": 52,
   "id": "fb0f19a6-e41e-44dd-a1e7-544f81032665",
   "metadata": {
    "tags": []
   },
   "outputs": [
    {
     "data": {
      "text/plain": [
       "array([[ True,  True,  True, False,  True],\n",
       "       [False, False,  True,  True, False],\n",
       "       [False,  True,  True, False, False],\n",
       "       [ True,  True, False, False,  True],\n",
       "       [False,  True,  True,  True,  True]])"
      ]
     },
     "execution_count": 52,
     "metadata": {},
     "output_type": "execute_result"
    }
   ],
   "source": [
    "bmean"
   ]
  },
  {
   "cell_type": "code",
   "execution_count": 53,
   "id": "82303f3c-5b6a-4868-9426-ac51f1818f68",
   "metadata": {
    "tags": []
   },
   "outputs": [
    {
     "data": {
      "text/plain": [
       "array([45, 83, 94, 68, 62])"
      ]
     },
     "execution_count": 53,
     "metadata": {},
     "output_type": "execute_result"
    }
   ],
   "source": [
    "new.sum(axis = 1)"
   ]
  },
  {
   "cell_type": "code",
   "execution_count": 54,
   "id": "eaaf6cfc-0917-48c9-96f5-0ead50264b1a",
   "metadata": {
    "tags": []
   },
   "outputs": [
    {
     "data": {
      "text/plain": [
       "array([79, 56, 65, 91, 61])"
      ]
     },
     "execution_count": 54,
     "metadata": {},
     "output_type": "execute_result"
    }
   ],
   "source": [
    "new.sum(axis = 0)"
   ]
  },
  {
   "cell_type": "code",
   "execution_count": 56,
   "id": "d66c709a-0e65-454c-96e0-d92d027f52d7",
   "metadata": {
    "tags": []
   },
   "outputs": [
    {
     "data": {
      "text/plain": [
       "array([21, 24, 20, 18, 25, 23, 23, 22, 20, 17])"
      ]
     },
     "execution_count": 56,
     "metadata": {},
     "output_type": "execute_result"
    }
   ],
   "source": [
    "new[new > np.mean(new)]"
   ]
  },
  {
   "cell_type": "code",
   "execution_count": 57,
   "id": "85760289-6809-47c6-acdb-5cb5a3da7cdb",
   "metadata": {
    "tags": []
   },
   "outputs": [
    {
     "data": {
      "text/plain": [
       "array([ 1, 25, 32, ..., 67, 14, 87])"
      ]
     },
     "execution_count": 57,
     "metadata": {},
     "output_type": "execute_result"
    }
   ],
   "source": [
    "bigdata = np.random.randint(0, 100, size = 10000)\n",
    "bigdata"
   ]
  },
  {
   "cell_type": "code",
   "execution_count": 59,
   "id": "d0685988-88ef-4422-9ece-5f045f5a1b8b",
   "metadata": {
    "tags": []
   },
   "outputs": [
    {
     "data": {
      "text/plain": [
       "array([95, 90, 76, ..., 76, 67, 87])"
      ]
     },
     "execution_count": 59,
     "metadata": {},
     "output_type": "execute_result"
    }
   ],
   "source": [
    "bigdata[bigdata > np.mean(bigdata)]"
   ]
  },
  {
   "cell_type": "code",
   "execution_count": 61,
   "id": "15dd1745-5ba4-4c69-9b63-a6de0d455141",
   "metadata": {
    "tags": []
   },
   "outputs": [
    {
     "data": {
      "text/plain": [
       "10000"
      ]
     },
     "execution_count": 61,
     "metadata": {},
     "output_type": "execute_result"
    }
   ],
   "source": [
    "bigdata.size"
   ]
  },
  {
   "cell_type": "code",
   "execution_count": 62,
   "id": "22a1f747-9f8e-46a4-be6f-0b4e71ff814c",
   "metadata": {
    "tags": []
   },
   "outputs": [
    {
     "data": {
      "text/plain": [
       "5013"
      ]
     },
     "execution_count": 62,
     "metadata": {},
     "output_type": "execute_result"
    }
   ],
   "source": [
    "bigdata[bigdata > np.mean(bigdata)].size"
   ]
  },
  {
   "cell_type": "code",
   "execution_count": 63,
   "id": "c01f3564-310f-4775-82e6-e86c21f40609",
   "metadata": {
    "tags": []
   },
   "outputs": [
    {
     "data": {
      "text/plain": [
       "14.378372040836526"
      ]
     },
     "execution_count": 63,
     "metadata": {},
     "output_type": "execute_result"
    }
   ],
   "source": [
    "np.std(bigdata[bigdata > np.mean(bigdata)])"
   ]
  },
  {
   "cell_type": "code",
   "execution_count": 65,
   "id": "ca0372f7-27e4-4a7d-ace2-0c9a88b657fa",
   "metadata": {
    "tags": []
   },
   "outputs": [
    {
     "data": {
      "text/plain": [
       "1.7083366590798916"
      ]
     },
     "execution_count": 65,
     "metadata": {},
     "output_type": "execute_result"
    }
   ],
   "source": [
    "norm = np.mean(bigdata) / np.std(bigdata)\n",
    "norm"
   ]
  },
  {
   "cell_type": "code",
   "execution_count": 66,
   "id": "f1b8d336-8812-4f6a-b222-680422956d52",
   "metadata": {
    "tags": []
   },
   "outputs": [
    {
     "data": {
      "text/plain": [
       "array([[2, 4, 0, 4, 2, 0],\n",
       "       [1, 2, 4, 0, 1, 3],\n",
       "       [1, 3, 3, 1, 1, 0],\n",
       "       [2, 3, 0, 4, 2, 3],\n",
       "       [1, 1, 2, 1, 3, 0],\n",
       "       [3, 0, 2, 3, 4, 1]])"
      ]
     },
     "execution_count": 66,
     "metadata": {},
     "output_type": "execute_result"
    }
   ],
   "source": [
    "zeros = np.random.randint(0, 5, size = (6, 6))\n",
    "zeros"
   ]
  },
  {
   "cell_type": "code",
   "execution_count": 68,
   "id": "c92546d9-bda7-49f6-98d8-91ef0378f5aa",
   "metadata": {
    "tags": []
   },
   "outputs": [
    {
     "data": {
      "text/plain": [
       "array([2, 4, 4, 2, 1, 2, 4, 1, 3, 1, 3, 3, 1, 1, 2, 3, 4, 2, 3, 1, 1, 2,\n",
       "       1, 3, 3, 2, 3, 4, 1])"
      ]
     },
     "execution_count": 68,
     "metadata": {},
     "output_type": "execute_result"
    }
   ],
   "source": [
    "non_zero = zeros[zeros != 0]\n",
    "non_zero"
   ]
  },
  {
   "cell_type": "code",
   "execution_count": 69,
   "id": "59d2053b-40d2-4086-b883-a2030bc6e290",
   "metadata": {
    "tags": []
   },
   "outputs": [
    {
     "data": {
      "text/plain": [
       "array([4, 5])"
      ]
     },
     "execution_count": 69,
     "metadata": {},
     "output_type": "execute_result"
    }
   ],
   "source": [
    "arr1 = np.array([1, 2, 3, 4, 5])\n",
    "arr2 = np.array([4, 5, 6, 7, 8])\n",
    "\n",
    "common = np.intersect1d(arr1, arr2)\n",
    "common"
   ]
  },
  {
   "cell_type": "code",
   "execution_count": 70,
   "id": "954d3b90-8556-4ea7-91c9-a848c13f2e27",
   "metadata": {
    "collapsed": true,
    "jupyter": {
     "outputs_hidden": true
    },
    "tags": []
   },
   "outputs": [
    {
     "data": {
      "text/plain": [
       "\u001b[1;31mSignature:\u001b[0m \u001b[0mnp\u001b[0m\u001b[1;33m.\u001b[0m\u001b[0mintersect1d\u001b[0m\u001b[1;33m(\u001b[0m\u001b[0mar1\u001b[0m\u001b[1;33m,\u001b[0m \u001b[0mar2\u001b[0m\u001b[1;33m,\u001b[0m \u001b[0massume_unique\u001b[0m\u001b[1;33m=\u001b[0m\u001b[1;32mFalse\u001b[0m\u001b[1;33m,\u001b[0m \u001b[0mreturn_indices\u001b[0m\u001b[1;33m=\u001b[0m\u001b[1;32mFalse\u001b[0m\u001b[1;33m)\u001b[0m\u001b[1;33m\u001b[0m\u001b[1;33m\u001b[0m\u001b[0m\n",
       "\u001b[1;31mDocstring:\u001b[0m\n",
       "Find the intersection of two arrays.\n",
       "\n",
       "Return the sorted, unique values that are in both of the input arrays.\n",
       "\n",
       "Parameters\n",
       "----------\n",
       "ar1, ar2 : array_like\n",
       "    Input arrays. Will be flattened if not already 1D.\n",
       "assume_unique : bool\n",
       "    If True, the input arrays are both assumed to be unique, which\n",
       "    can speed up the calculation.  If True but ``ar1`` or ``ar2`` are not\n",
       "    unique, incorrect results and out-of-bounds indices could result.\n",
       "    Default is False.\n",
       "return_indices : bool\n",
       "    If True, the indices which correspond to the intersection of the two\n",
       "    arrays are returned. The first instance of a value is used if there are\n",
       "    multiple. Default is False.\n",
       "\n",
       "    .. versionadded:: 1.15.0\n",
       "\n",
       "Returns\n",
       "-------\n",
       "intersect1d : ndarray\n",
       "    Sorted 1D array of common and unique elements.\n",
       "comm1 : ndarray\n",
       "    The indices of the first occurrences of the common values in `ar1`.\n",
       "    Only provided if `return_indices` is True.\n",
       "comm2 : ndarray\n",
       "    The indices of the first occurrences of the common values in `ar2`.\n",
       "    Only provided if `return_indices` is True.\n",
       "\n",
       "\n",
       "See Also\n",
       "--------\n",
       "numpy.lib.arraysetops : Module with a number of other functions for\n",
       "                        performing set operations on arrays.\n",
       "\n",
       "Examples\n",
       "--------\n",
       ">>> np.intersect1d([1, 3, 4, 3], [3, 1, 2, 1])\n",
       "array([1, 3])\n",
       "\n",
       "To intersect more than two arrays, use functools.reduce:\n",
       "\n",
       ">>> from functools import reduce\n",
       ">>> reduce(np.intersect1d, ([1, 3, 4, 3], [3, 1, 2, 1], [6, 3, 4, 2]))\n",
       "array([3])\n",
       "\n",
       "To return the indices of the values common to the input arrays\n",
       "along with the intersected values:\n",
       "\n",
       ">>> x = np.array([1, 1, 2, 3, 4])\n",
       ">>> y = np.array([2, 1, 4, 6])\n",
       ">>> xy, x_ind, y_ind = np.intersect1d(x, y, return_indices=True)\n",
       ">>> x_ind, y_ind\n",
       "(array([0, 2, 4]), array([1, 0, 2]))\n",
       ">>> xy, x[x_ind], y[y_ind]\n",
       "(array([1, 2, 4]), array([1, 2, 4]), array([1, 2, 4]))\n",
       "\u001b[1;31mFile:\u001b[0m      c:\\programdata\\anaconda3\\lib\\site-packages\\numpy\\lib\\arraysetops.py\n",
       "\u001b[1;31mType:\u001b[0m      function"
      ]
     },
     "metadata": {},
     "output_type": "display_data"
    }
   ],
   "source": [
    "?np.intersect1d"
   ]
  },
  {
   "cell_type": "code",
   "execution_count": 77,
   "id": "b90de2a4-6c3d-48e8-b499-66ce2ddb14de",
   "metadata": {
    "tags": []
   },
   "outputs": [
    {
     "data": {
      "text/plain": [
       "array([ 6, 24, 15])"
      ]
     },
     "execution_count": 77,
     "metadata": {},
     "output_type": "execute_result"
    }
   ],
   "source": [
    "arr2d = np.array([\n",
    "    [1, 2, 3],\n",
    "    [7, 8, 9],\n",
    "    [4, 5, 6]\n",
    "])\n",
    "\n",
    "row_sums = arr2d.sum(axis = 1)\n",
    "row_sums"
   ]
  },
  {
   "cell_type": "code",
   "execution_count": 75,
   "id": "774f47ae-fd74-4600-a685-40a031475f00",
   "metadata": {
    "tags": []
   },
   "outputs": [
    {
     "data": {
      "text/plain": [
       "1"
      ]
     },
     "execution_count": 75,
     "metadata": {},
     "output_type": "execute_result"
    }
   ],
   "source": [
    "max_row_index = np.argmax(row_sums)\n",
    "max_row_index"
   ]
  },
  {
   "cell_type": "code",
   "execution_count": 76,
   "id": "305e772e-60c5-4874-a2a2-e83303369f90",
   "metadata": {
    "tags": []
   },
   "outputs": [
    {
     "data": {
      "text/plain": [
       "array([7, 8, 9])"
      ]
     },
     "execution_count": 76,
     "metadata": {},
     "output_type": "execute_result"
    }
   ],
   "source": [
    "arr2d[max_row_index]"
   ]
  },
  {
   "cell_type": "code",
   "execution_count": 79,
   "id": "80b83463-8e1b-4879-98d1-96a46a06f981",
   "metadata": {
    "tags": []
   },
   "outputs": [
    {
     "data": {
      "text/plain": [
       "array([ 1, -2,  3, -4,  5])"
      ]
     },
     "execution_count": 79,
     "metadata": {},
     "output_type": "execute_result"
    }
   ],
   "source": [
    "neg = np.array([1, -2, 3, -4, 5])\n",
    "neg"
   ]
  },
  {
   "cell_type": "code",
   "execution_count": 81,
   "id": "5333985d-c17c-4023-8fd4-5545bdae75dc",
   "metadata": {
    "tags": []
   },
   "outputs": [
    {
     "data": {
      "text/plain": [
       "array([-2, -4])"
      ]
     },
     "execution_count": 81,
     "metadata": {},
     "output_type": "execute_result"
    }
   ],
   "source": [
    "neg[neg < 0]"
   ]
  },
  {
   "cell_type": "code",
   "execution_count": 82,
   "id": "f974776b-5f7a-4ef0-81a4-8a028f406f23",
   "metadata": {
    "tags": []
   },
   "outputs": [
    {
     "data": {
      "text/plain": [
       "array([1, 4])"
      ]
     },
     "execution_count": 82,
     "metadata": {},
     "output_type": "execute_result"
    }
   ],
   "source": [
    "ar1 = np.array([1,2,3])\n",
    "ar2 = np.array([2,3,4])\n",
    "\n",
    "np.setxor1d(ar1, ar2)"
   ]
  },
  {
   "cell_type": "code",
   "execution_count": 84,
   "id": "b98aa454-5bd3-4ed9-b9f5-1e0edb5fb408",
   "metadata": {
    "tags": []
   },
   "outputs": [
    {
     "data": {
      "text/plain": [
       "array([[1, 2, 3],\n",
       "       [4, 5, 6],\n",
       "       [7, 8, 9]])"
      ]
     },
     "execution_count": 84,
     "metadata": {},
     "output_type": "execute_result"
    }
   ],
   "source": [
    "ar2d = np.array([[1, 2, 3],\n",
    " [4, 5, 6],\n",
    " [7, 8, 9]])\n",
    "ar2d"
   ]
  },
  {
   "cell_type": "code",
   "execution_count": 89,
   "id": "5a658896-8966-45a1-a36b-e1f3ea3444ef",
   "metadata": {
    "tags": []
   },
   "outputs": [
    {
     "data": {
      "text/plain": [
       "array([12, 15, 18])"
      ]
     },
     "execution_count": 89,
     "metadata": {},
     "output_type": "execute_result"
    }
   ],
   "source": [
    "rowsum = ar2d.sum(axis = 0)\n",
    "rowsum"
   ]
  },
  {
   "cell_type": "code",
   "execution_count": 91,
   "id": "8061fdd7-85ee-4f2d-8490-a331ca081279",
   "metadata": {
    "tags": []
   },
   "outputs": [
    {
     "data": {
      "text/plain": [
       "array([1, 2, 3])"
      ]
     },
     "execution_count": 91,
     "metadata": {},
     "output_type": "execute_result"
    }
   ],
   "source": [
    "ar2d[np.argmin(rowsum)]"
   ]
  },
  {
   "cell_type": "markdown",
   "id": "1737532d-270f-461f-a1dd-9c598817564d",
   "metadata": {},
   "source": [
    "sinif not sistemi"
   ]
  },
  {
   "cell_type": "code",
   "execution_count": 92,
   "id": "c63d801b-d7be-48bd-814d-4742ca4b2e01",
   "metadata": {
    "tags": []
   },
   "outputs": [
    {
     "data": {
      "text/plain": [
       "array([37, 30, 77, 66, 69, 45, 95, 53, 10, 15, 34, 51, 97, 10, 24, 69, 18,\n",
       "       37, 90, 30, 22,  0, 32,  7, 71, 78, 81, 52, 88, 46, 61,  0, 36, 97,\n",
       "       19, 69, 38, 45,  7, 15, 44, 57, 96, 83, 70, 34, 98, 10, 12, 14])"
      ]
     },
     "execution_count": 92,
     "metadata": {},
     "output_type": "execute_result"
    }
   ],
   "source": [
    "notlar = np.array(np.random.randint(0, 101, size = 50))\n",
    "notlar"
   ]
  },
  {
   "cell_type": "code",
   "execution_count": 103,
   "id": "2b4b3b37-8c55-43f4-9993-b1c360af09c6",
   "metadata": {
    "tags": []
   },
   "outputs": [],
   "source": [
    "ortalama = notlar.mean()\n",
    "gecenler = []\n",
    "kalanlar = []\n",
    "for i in range(notlar.size):\n",
    "    if notlar[i] >= ortalama:\n",
    "        gecenler.append(notlar[i])\n",
    "    else:\n",
    "        kalanlar.append(notlar[i])"
   ]
  },
  {
   "cell_type": "code",
   "execution_count": 104,
   "id": "e2d242de-8457-4c83-a2ab-ed841c7143f2",
   "metadata": {
    "tags": []
   },
   "outputs": [
    {
     "data": {
      "text/plain": [
       "[77,\n",
       " 66,\n",
       " 69,\n",
       " 95,\n",
       " 53,\n",
       " 51,\n",
       " 97,\n",
       " 69,\n",
       " 90,\n",
       " 71,\n",
       " 78,\n",
       " 81,\n",
       " 52,\n",
       " 88,\n",
       " 61,\n",
       " 97,\n",
       " 69,\n",
       " 57,\n",
       " 96,\n",
       " 83,\n",
       " 70,\n",
       " 98]"
      ]
     },
     "execution_count": 104,
     "metadata": {},
     "output_type": "execute_result"
    }
   ],
   "source": [
    "gecenler"
   ]
  },
  {
   "cell_type": "code",
   "execution_count": 105,
   "id": "b8ab9af6-8f2f-4bec-a753-bd937dd09551",
   "metadata": {
    "tags": []
   },
   "outputs": [
    {
     "data": {
      "text/plain": [
       "[37,\n",
       " 30,\n",
       " 45,\n",
       " 10,\n",
       " 15,\n",
       " 34,\n",
       " 10,\n",
       " 24,\n",
       " 18,\n",
       " 37,\n",
       " 30,\n",
       " 22,\n",
       " 0,\n",
       " 32,\n",
       " 7,\n",
       " 46,\n",
       " 0,\n",
       " 36,\n",
       " 19,\n",
       " 38,\n",
       " 45,\n",
       " 7,\n",
       " 15,\n",
       " 44,\n",
       " 34,\n",
       " 10,\n",
       " 12,\n",
       " 14]"
      ]
     },
     "execution_count": 105,
     "metadata": {},
     "output_type": "execute_result"
    }
   ],
   "source": [
    "kalanlar"
   ]
  },
  {
   "cell_type": "code",
   "execution_count": 106,
   "id": "53d93087-63f9-48cd-9941-42530cd575d8",
   "metadata": {
    "tags": []
   },
   "outputs": [
    {
     "data": {
      "text/plain": [
       "46.78"
      ]
     },
     "execution_count": 106,
     "metadata": {},
     "output_type": "execute_result"
    }
   ],
   "source": [
    "ortalama = notlar.mean()\n",
    "ortalama"
   ]
  },
  {
   "cell_type": "code",
   "execution_count": 107,
   "id": "c2816c25-034a-4234-882c-b11121cbc127",
   "metadata": {
    "tags": []
   },
   "outputs": [
    {
     "data": {
      "text/plain": [
       "98"
      ]
     },
     "execution_count": 107,
     "metadata": {},
     "output_type": "execute_result"
    }
   ],
   "source": [
    "notlar.max()"
   ]
  },
  {
   "cell_type": "markdown",
   "id": "a00462ed-e478-4858-8bd9-c90f37c26e34",
   "metadata": {},
   "source": [
    "Bir array içindeki negatif sayıları sıfır yap."
   ]
  },
  {
   "cell_type": "code",
   "execution_count": 108,
   "id": "96a80e08-49a2-45b0-b883-4584bfa8838e",
   "metadata": {
    "tags": []
   },
   "outputs": [
    {
     "data": {
      "text/plain": [
       "array([-5,  3, -1,  7])"
      ]
     },
     "execution_count": 108,
     "metadata": {},
     "output_type": "execute_result"
    }
   ],
   "source": [
    "array1 = np.array([-5, 3, -1, 7])\n",
    "array1"
   ]
  },
  {
   "cell_type": "code",
   "execution_count": 110,
   "id": "34143f5f-a59a-4d35-98a0-57fc85ab3bb8",
   "metadata": {
    "tags": []
   },
   "outputs": [
    {
     "data": {
      "text/plain": [
       "array([0, 3, 0, 7])"
      ]
     },
     "execution_count": 110,
     "metadata": {},
     "output_type": "execute_result"
    }
   ],
   "source": [
    "for i in range(array1.size):\n",
    "    if array1[i]<0:\n",
    "        array1[i]=0\n",
    "    else:\n",
    "        continue\n",
    "array1"
   ]
  },
  {
   "cell_type": "markdown",
   "id": "cd6c7f21-ad6f-43d3-8e04-1185588fb271",
   "metadata": {},
   "source": [
    "İki array'in ortak olmayan elemanlarını birleştir."
   ]
  },
  {
   "cell_type": "code",
   "execution_count": 112,
   "id": "38086ff7-cbb0-4000-aebf-19894d2d6788",
   "metadata": {
    "tags": []
   },
   "outputs": [
    {
     "data": {
      "text/plain": [
       "array([1, 4])"
      ]
     },
     "execution_count": 112,
     "metadata": {},
     "output_type": "execute_result"
    }
   ],
   "source": [
    "arr1 = [1,2,3]\n",
    "arr2 = [2,3,4]\n",
    "common = np.setxor1d(arr1, arr2)\n",
    "common\n"
   ]
  },
  {
   "cell_type": "markdown",
   "id": "882cd3c0-887a-41f1-836d-04581054dca7",
   "metadata": {},
   "source": [
    "Bir array'deki tüm elemanların karesini al."
   ]
  },
  {
   "cell_type": "code",
   "execution_count": 114,
   "id": "96d1a223-6334-431a-a259-85e5d0ff5289",
   "metadata": {
    "tags": []
   },
   "outputs": [
    {
     "data": {
      "text/plain": [
       "array([ 4,  9, 16])"
      ]
     },
     "execution_count": 114,
     "metadata": {},
     "output_type": "execute_result"
    }
   ],
   "source": [
    "array2 = np.array([2, 3, 4])\n",
    "\n",
    "for i in range(array2.size):\n",
    "    array2[i] = array2[i] * array2[i]\n",
    "    \n",
    "array2"
   ]
  },
  {
   "cell_type": "markdown",
   "id": "e0cea041-2248-4d66-bcc7-67a8ebfb923a",
   "metadata": {},
   "source": [
    "5x5 bir random array üret."
   ]
  },
  {
   "cell_type": "code",
   "execution_count": 116,
   "id": "73fe0a80-2a61-4818-b54f-9730f75d4a80",
   "metadata": {
    "tags": []
   },
   "outputs": [
    {
     "data": {
      "text/plain": [
       "array([[73, 57,  6, 17, 48],\n",
       "       [30, 34, 11, 87,  6],\n",
       "       [19, 58, 30, 99,  6],\n",
       "       [31, 80, 38, 55, 68],\n",
       "       [ 2, 80, 90, 78, 62]])"
      ]
     },
     "execution_count": 116,
     "metadata": {},
     "output_type": "execute_result"
    }
   ],
   "source": [
    "rndarr = np.random.randint(0, 100, size = (5, 5))\n",
    "rndarr"
   ]
  },
  {
   "cell_type": "markdown",
   "id": "2aae9fb5-711a-40be-aa7d-4d06a930e9f4",
   "metadata": {},
   "source": [
    "Bir array'deki en büyük 3 elemanı bul."
   ]
  },
  {
   "cell_type": "code",
   "execution_count": 133,
   "id": "b2fd7f73-4963-4aea-9aa7-edb0f24e4b1f",
   "metadata": {
    "tags": []
   },
   "outputs": [
    {
     "data": {
      "text/plain": [
       "array([ 9, 10, 11])"
      ]
     },
     "execution_count": 133,
     "metadata": {},
     "output_type": "execute_result"
    }
   ],
   "source": [
    "arr = np.array([1, 9, 3, 7, 5, 11, 4, 10])\n",
    "top3_indices = np.argsort(arr)[-3:]  # En büyük 3'ün indeksini al\n",
    "top3_values = arr[top3_indices]\n",
    "top3_values "
   ]
  },
  {
   "cell_type": "markdown",
   "id": "7325f94a-5d1b-43d9-a10b-3fb679e09726",
   "metadata": {},
   "source": [
    "Bir array'in ortalamasının üstünde olan tüm elemanları seç."
   ]
  },
  {
   "cell_type": "code",
   "execution_count": 118,
   "id": "8d1ab06f-aa9d-48d8-a77b-bd8f571624c9",
   "metadata": {
    "tags": []
   },
   "outputs": [
    {
     "data": {
      "text/plain": [
       "[30, 40]"
      ]
     },
     "execution_count": 118,
     "metadata": {},
     "output_type": "execute_result"
    }
   ],
   "source": [
    "nar = np.array([10, 20, 30, 40])\n",
    "ortustu = []\n",
    "for i in range(nar.size):\n",
    "    if nar.mean() < nar[i]:\n",
    "        ortustu.append(nar[i])\n",
    "    else:\n",
    "        continue\n",
    "\n",
    "ortustu\n",
    "        "
   ]
  },
  {
   "cell_type": "markdown",
   "id": "ba3712cf-0b75-422f-a546-bedcec2398d2",
   "metadata": {},
   "source": [
    "Verilen bir 2D array'de:\n",
    "\n",
    "Her satırın toplamını bul\n",
    "\n",
    "Toplamı en küçük olan satırı yazdır."
   ]
  },
  {
   "cell_type": "code",
   "execution_count": 121,
   "id": "53320ede-f634-4b12-ae24-f2de811b5473",
   "metadata": {
    "tags": []
   },
   "outputs": [
    {
     "data": {
      "text/plain": [
       "array([201, 168, 212, 272, 312])"
      ]
     },
     "execution_count": 121,
     "metadata": {},
     "output_type": "execute_result"
    }
   ],
   "source": [
    "arr2d = np.array([[73, 57,  6, 17, 48],\n",
    "       [30, 34, 11, 87,  6],\n",
    "       [19, 58, 30, 99,  6],\n",
    "       [31, 80, 38, 55, 68],\n",
    "       [ 2, 80, 90, 78, 62]])\n",
    "\n",
    "rowsum = arr2d.sum(axis = 1)\n",
    "rowsum"
   ]
  },
  {
   "cell_type": "code",
   "execution_count": 123,
   "id": "63913875-07b7-48d1-afb4-9ffcc390967e",
   "metadata": {
    "tags": []
   },
   "outputs": [
    {
     "data": {
      "text/plain": [
       "array([30, 34, 11, 87,  6])"
      ]
     },
     "execution_count": 123,
     "metadata": {},
     "output_type": "execute_result"
    }
   ],
   "source": [
    "arr2d[np.argmin(rowsum)]"
   ]
  },
  {
   "cell_type": "markdown",
   "id": "41585b3c-0f8d-4476-b0af-b6ef43bb8fb8",
   "metadata": {},
   "source": [
    "Bir array'de:\n",
    "\n",
    "Eğer sayı çiftse 2 ile çarp\n",
    "\n",
    "Eğer tekse 3 ekle\n",
    "\n",
    "(ve yeni bir array oluştur)"
   ]
  },
  {
   "cell_type": "code",
   "execution_count": 124,
   "id": "e65d5d97-3eab-401e-9d68-695e5fda6132",
   "metadata": {
    "tags": []
   },
   "outputs": [
    {
     "data": {
      "text/plain": [
       "array([4, 7, 4, 3, 9, 5, 6, 4, 8, 1, 9, 8])"
      ]
     },
     "execution_count": 124,
     "metadata": {},
     "output_type": "execute_result"
    }
   ],
   "source": [
    "arrs = np.array(np.random.randint(1, 10, size = 12))\n",
    "arrs"
   ]
  },
  {
   "cell_type": "code",
   "execution_count": 125,
   "id": "ec4b3efb-a7e3-4a06-b7f3-d8ced00fd26f",
   "metadata": {
    "tags": []
   },
   "outputs": [
    {
     "data": {
      "text/plain": [
       "[16, 10, 16, 6, 12, 8, 36, 16, 64, 4, 12, 64]"
      ]
     },
     "execution_count": 125,
     "metadata": {},
     "output_type": "execute_result"
    }
   ],
   "source": [
    "newarrs = []\n",
    "for i in range(arrs.size):\n",
    "    if arrs[i] % 2 == 0:\n",
    "        newarrs.append(arrs[i] * arrs[i])\n",
    "    else:\n",
    "        newarrs.append(arrs[i] + 3)\n",
    "\n",
    "newarrs"
   ]
  },
  {
   "cell_type": "markdown",
   "id": "4cb60f88-981e-4c2d-a56b-570472f01395",
   "metadata": {},
   "source": [
    "Bir 2D array'i satır satır ters çevir."
   ]
  },
  {
   "cell_type": "code",
   "execution_count": 143,
   "id": "cb0c1f1d-d012-43d6-82fe-a0d6d5497bed",
   "metadata": {
    "tags": []
   },
   "outputs": [
    {
     "data": {
      "text/plain": [
       "array([[3, 2, 1],\n",
       "       [6, 5, 4],\n",
       "       [9, 8, 7]])"
      ]
     },
     "execution_count": 143,
     "metadata": {},
     "output_type": "execute_result"
    }
   ],
   "source": [
    "ar2d = np.array([[1, 2, 3],\n",
    "                [4, 5, 6],\n",
    "                [7, 8, 9]])\n",
    "\n",
    "resar2d = ar2d[:, ::-1]\n",
    "\n",
    "resar2d"
   ]
  },
  {
   "cell_type": "markdown",
   "id": "a59d8a06-2704-403b-a004-c4d3bf5ec8b9",
   "metadata": {},
   "source": [
    "Bir array'in elemanlarını küçükten büyüğe sırala,\n",
    "ama orijinal array'i değiştirme.\n",
    "(yani kopyasını sırala)"
   ]
  },
  {
   "cell_type": "code",
   "execution_count": 137,
   "id": "027676b1-fc0f-4e28-80f9-684719c7b3c9",
   "metadata": {
    "tags": []
   },
   "outputs": [],
   "source": [
    "ar = np.array(np.random.randint(1, 100, size = 10))\n",
    "newar = np.sort(ar)"
   ]
  },
  {
   "cell_type": "code",
   "execution_count": 138,
   "id": "55af1c9d-89cb-4627-817f-6a7ffc075837",
   "metadata": {
    "tags": []
   },
   "outputs": [
    {
     "data": {
      "text/plain": [
       "array([76, 22, 76, 12, 12, 56, 53, 40,  1, 11])"
      ]
     },
     "execution_count": 138,
     "metadata": {},
     "output_type": "execute_result"
    }
   ],
   "source": [
    "ar"
   ]
  },
  {
   "cell_type": "code",
   "execution_count": 139,
   "id": "e70b452c-be1f-4ffc-9f27-beeedf195018",
   "metadata": {
    "tags": []
   },
   "outputs": [
    {
     "data": {
      "text/plain": [
       "array([ 1, 11, 12, 12, 22, 40, 53, 56, 76, 76])"
      ]
     },
     "execution_count": 139,
     "metadata": {},
     "output_type": "execute_result"
    }
   ],
   "source": [
    "newar"
   ]
  },
  {
   "cell_type": "code",
   "execution_count": null,
   "id": "62d68fb3-9e66-43ce-9d46-4576aec4c4a7",
   "metadata": {},
   "outputs": [],
   "source": []
  }
 ],
 "metadata": {
  "kernelspec": {
   "display_name": "Python 3 (ipykernel)",
   "language": "python",
   "name": "python3"
  },
  "language_info": {
   "codemirror_mode": {
    "name": "ipython",
    "version": 3
   },
   "file_extension": ".py",
   "mimetype": "text/x-python",
   "name": "python",
   "nbconvert_exporter": "python",
   "pygments_lexer": "ipython3",
   "version": "3.11.4"
  }
 },
 "nbformat": 4,
 "nbformat_minor": 5
}
