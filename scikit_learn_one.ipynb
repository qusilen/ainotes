{
 "cells": [
  {
   "cell_type": "markdown",
   "id": "60ceec38-b499-4740-be5d-8112113a4e3c",
   "metadata": {},
   "source": [
    "Makine Öğrenmesi Nedir?\n",
    "\n",
    "Makine öğrenmesi (ML), bilgisayarların veriden öğrenerek belirli görevleri otomatik olarak\n",
    "yapabilmesini sağlayan yapay  zeka (AI) dalıdır.\n",
    "Geleneksel yazılım yöntemlerinin aksine, ML sistemleri, belirli kurallar yerine veriden öğrendikleri desenleri kullanarak kararlar alır."
   ]
  },
  {
   "cell_type": "markdown",
   "id": "ee0f6a57-ddae-4856-b316-bdcc12bb7093",
   "metadata": {},
   "source": [
    "Makine Öğrenmesi Sistemlerinin Özellikleri\n",
    "\n",
    "Veri Tabanlı: Modeller, büyük miktarda veriyi analiz ederek öğrenir.\n",
    "\n",
    "Otomatik Karar Verme: Belirli durumlarda otomatik kararlar almak için eğitilirler.\n",
    "\n",
    "Genelleme Yeteneği: Yeni, daha önce görülmemiş verilerde doğru tahminler yapabilmeleridir."
   ]
  },
  {
   "cell_type": "markdown",
   "id": "ee52df6f-045c-41d9-b9a2-c04d47f5167d",
   "metadata": {},
   "source": [
    "Makine Öğrenmesi Türleri\n",
    "\n",
    "1. Gözetimli Öğrenme (Supervised Learning)\n",
    "   * Etiketli verilerle eğitilir.\n",
    "   * Giriş ve çıkış örnekleri bellidir.\n",
    "   * Örneğin: E-postaların spam olup olmadığını belirlemek, ev fiyatlarını tahmin etmek.\n",
    "\n",
    "   Alt Türleri:\n",
    "\n",
    "   * Sınıflandırma: Veriyi belirli sınıflara ayırma (ör. hastalık tespiti: hasta / sağlıklı)\n",
    "   * Regresyon: Sürekli değerleri tahmin etme (ör. ev fiyatları, sıcaklık tahmini)\n",
    "\n",
    "3. Gözetimsiz Öğrenme (Unsupervised Learning)\n",
    "   * Etiketlenmemiş verilerle çalışır.\n",
    "   * Verideki gizli desenleri ve grupları bulur.\n",
    "   * Örneğin: Müşteri segmentasyonu, pazar analizi.\n",
    "\n",
    "    Alt Türleri:\n",
    "\n",
    "    * Kümeleme (Clustering): Veriyi benzer gruplara ayırma.\n",
    "    * Boyut Azaltma (Dimensionality Reduction): Verinin karmaşıklığını azaltma.\n",
    "\n",
    "5. Pekiştirmeli Öğrenme (Reinforcement Learning)\n",
    "    * Ajanların, belirli bir ortamda ödül maksimize ederek öğrenmesi.\n",
    "    * Oyun yapımı ve robotik alanlarında yaygın.\n",
    "    * Örneğin: AlphaGo, otonom araçlar."
   ]
  },
  {
   "cell_type": "markdown",
   "id": "278e124b-c258-4ba1-a09e-a2bc5b731f53",
   "metadata": {},
   "source": [
    "Makine Öğrenmesi Süreci\n",
    "\n",
    "* Veri Toplama: Veriyi toplamak ve hazırlamak.\n",
    "* Veri Ön İşleme: Eksik değerler, aykırı gözlemler, veri dönüşümleri.\n",
    "* Model Seçimi: Doğru algoritmanın seçilmesi.\n",
    "* Model Eğitimi: Modeli verilerle eğitmek.\n",
    "* Model Değerlendirme: Modelin doğruluğunu test etmek.\n",
    "* Model Optimizasyonu: Hiperparametre ayarları yapmak.\n",
    "* Model Dağıtımı: Gerçek dünyada kullanmak."
   ]
  },
  {
   "cell_type": "markdown",
   "id": "e20c067b-be26-4049-8150-e2d3ded89e01",
   "metadata": {},
   "source": [
    "Scikit-learn Nedir?\n",
    "* Python dilinde yazılmış açık kaynak bir makine öğrenmesi kütüphanesidir.\n",
    "* İçinde birçok hazır algoritma (sınıflandırma, regresyon, kümeleme vs.) ve araç (veri ön işleme, model seçimi, değerlendirme) bulunur.\n",
    "* Kullanımı kolay, hızlı prototip geliştirmeye çok uygundur.\n",
    "\n",
    "Kurulum => pip install scikit-learn\n",
    "\n",
    "Scikit-learn'de Temel Kavramlar\n",
    "1. Dataset (Veri Seti)\n",
    "   * Veri setleri, genellikle x ve y olarak adlandırılır.\n",
    "   * x: Özellikler (input): genelde 2 boyutlu matris (satır = örnek, sütun = özellik)\n",
    "   * y: Etiketler (output): genelde 1 boyutlu dizi (sınıflar ya da tahmin edilecek değerler)\n",
    "2. Estimator (Tahmin Edici)\n",
    "   * Mode olarak düşünülebilir. Örneğin, LogisticRegression, RandomForestClassifier gibi sınıflar.\n",
    "   * .fit(X, y) ile model eğitilir.\n",
    "3. Predictor (Tahmin Edici Metotlar)\n",
    "   * .predict(X_test) ile yeni verilere göre tahmin yapılır.\n",
    "4. Model Değerlendirme\n",
    "   * Doğruluk (accuracy), hata oranı, F1 skoru gibi metriklerle model performansı ölçülür."
   ]
  },
  {
   "cell_type": "markdown",
   "id": "888013f8-c4b4-4f62-b934-d6001554c6e4",
   "metadata": {},
   "source": [
    "ÖRNEK: Iris Veri Seti ile Sınıflandırma\n",
    "Iris veri seti, 3 farklı iris çiçeği türünü ayırmak için kullanılan klasik bir veri setidir. Scikit-learn ile hazır hale gelir."
   ]
  },
  {
   "cell_type": "code",
   "execution_count": 6,
   "id": "a9869e94-2982-4127-8b21-5ebac033931f",
   "metadata": {},
   "outputs": [
    {
     "name": "stdout",
     "output_type": "stream",
     "text": [
      "Doğruluk: 1.0\n"
     ]
    }
   ],
   "source": [
    "from sklearn.datasets import load_iris\n",
    "from sklearn.model_selection import train_test_split\n",
    "from sklearn.ensemble import RandomForestClassifier\n",
    "from sklearn.metrics import accuracy_score\n",
    "\n",
    "#veri seti yükleme\n",
    "iris = load_iris()\n",
    "X = iris.data #Özellikler\n",
    "y = iris.target # Etiketler (0, 1, 2)\n",
    "\n",
    "#veriyi eğitim ve test olarak böl (örneğin %70 eğitim, %30 test)\n",
    "X_train, X_test, y_train, y_test = train_test_split(X, y, test_size=0.3, random_state=42)\n",
    "\n",
    "#model oluştur ve eğit\n",
    "model = RandomForestClassifier() #Karar ağaçları kullanarak birden fazla tahmin yapan ve bunların ortalamasını alan güçlü bir sınıflandırıcı.\n",
    "model.fit(X_train, y_train)\n",
    "\n",
    "#test verisiyle tahmin yap\n",
    "y_pred = model.predict(X_test)\n",
    "\n",
    "#doğruluk skorunu yazdır\n",
    "print(\"Doğruluk:\", accuracy_score(y_test, y_pred))"
   ]
  },
  {
   "cell_type": "markdown",
   "id": "00d6d35f-ed6b-452f-bdd9-2808a2e86ed3",
   "metadata": {},
   "source": [
    "Bu temel bir sınıflandırma örneğiydi. Modelin doğruluğu genelde %90-95 civarında çıkar, çünkü Iris veri seti iyi yapılandırılmış ve dengelidir."
   ]
  },
  {
   "cell_type": "markdown",
   "id": "63967bf1-e483-495a-ab09-9ee685cbd044",
   "metadata": {},
   "source": [
    "Confusion Matrix (Karışlık Matrisi)\n",
    "\n",
    "* Bu matriste hangi sınıfın doğru/yanlış tahmin edildiğini açıkça görebiliriz.\n",
    "* Makine öğrenmesi modellerinin ne kadar doğru tahmin yaptığını daha ayrıntılı görmek için kullanılır.\n",
    "* Basitçe \"Model doğru tahmin etmiş mi, nerelerde hata yapmış?\" bunu tablo halinde gösterir.\n",
    "\n",
    "Bu Matris Nasıl Okunur?\n",
    "\n",
    "* Satırlar = Gerçek Sınıflar\n",
    "* Sütunlar = Modelin Tahmin Ettiği Sınıflar\n",
    "\n",
    "* Diagonal (Köşegen) Değerler = doğru tahmin edilenler\n",
    "* Diagonel Dışı Değerler = hatalı tahminler\n",
    "\n",
    "Not: İyi bir modelde yalnızca diagonal dolu olur, diğer tüm hücreler 0 olur. Yani model her sınıfı doğru tahmin etmiş olur. (bizim accuracymiz 1 olduğu için tamamı diagonal çıktı matrisimizin.) \n",
    "\n",
    "Görselde Renkler Ne Anlama Gelir?\n",
    "\n",
    "Scikit-Learn grafik çıktısında:\n",
    "* Mavi Tonlar: Az sayıda tahmin\n",
    "* Koyu Mavi: Çok sayıda doğru tahmin\n",
    "* Beyaz ve Açık Mavi: Az hata\n",
    "\n",
    "Yani koyu renkler diagonalde yoğunlaşmışsa model çok başarılıdır."
   ]
  },
  {
   "cell_type": "code",
   "execution_count": 14,
   "id": "0c619376-159a-41f9-bba3-ade6bbbecd2e",
   "metadata": {},
   "outputs": [
    {
     "data": {
      "image/png": "[encoded data removed]",
      "text/plain": [
       "<Figure size 640x480 with 2 Axes>"
      ]
     },
     "metadata": {},
     "output_type": "display_data"
    }
   ],
   "source": [
    "from sklearn.metrics import confusion_matrix, ConfusionMatrixDisplay\n",
    "import matplotlib.pyplot as plt\n",
    "\n",
    "cm = confusion_matrix(y_test, y_pred)\n",
    "disp = ConfusionMatrixDisplay(confusion_matrix=cm, display_labels=iris.target_names)\n",
    "disp.plot(cmap=plt.cm.Blues)\n",
    "plt.title(\"Confusion Matrix\")\n",
    "plt.show()"
   ]
  },
  {
   "cell_type": "markdown",
   "id": "0d184039-30e8-4d03-b0d2-90cffb3df1e0",
   "metadata": {},
   "source": [
    "Özelliklerin Önem Dereceleri\n",
    "\n",
    "Model, karar verirken hangi özelliklere ne kadar önem vermiş bakalım:\n",
    "\n",
    "* Çıkan Özellik Skorları, modelin karar verirken hangi özelliğe ne kadar güvendiğini (önem verdiğini) gösterir.\n",
    "* Bir model (ör: RandomForestClassifier) sınıflandırma yaparken bazı özellikleri diğerlerinden daha belirleyici bulur.\n",
    "* Mesela aşağıdaki çıktıya göre modelin verdiği kararların %46.9'u petal length üzerinden etkilenmiştir. Yani bu model bu özelliği çok bilgilendirici bulmuş.\n",
    "* Iris veri setinde en yüksek çıkan skorun bu olmasının sebebi setosa, versicolor ve virginica türleri arasında en net farklardan biri taç yaprak uzunluğudur.\n",
    "* Aşağıdaki çıktıya göre en çok katkıyı petal length ve petal width yapıyor. sepal (çanak yaprak) uzunluğu ve genişliği ise çok anlamlı değil. Yani eğer bu iki özelliği silsek bile yine neredeyse aynı performansı alabileceğiz.\n",
    "\n",
    "Ne İşe Yarar?\n",
    "* Özellik seçimi yaparken hangi veriyi tutup hangisini atabileceğimizi gösterir.\n",
    "* Fazla önemsiz verileri çıkarmak, modeli hızlandırır ve sadeleştirir.\n",
    "* Gerçek dünya projelerinde: hangi sensör daha önemli, hangi kullanıcı davranışı daha etkili gibi yorumlar yapılabilir."
   ]
  },
  {
   "cell_type": "code",
   "execution_count": 24,
   "id": "8e111752-ce0d-4f34-a7f2-c72833ef32bf",
   "metadata": {},
   "outputs": [
    {
     "name": "stdout",
     "output_type": "stream",
     "text": [
      "             Özellik  Önem Skoru\n",
      "2  petal length (cm)    0.469763\n",
      "3   petal width (cm)    0.415006\n",
      "0  sepal length (cm)    0.082469\n",
      "1   sepal width (cm)    0.032762\n"
     ]
    }
   ],
   "source": [
    "import pandas as pd\n",
    "\n",
    "feature_importances = model.feature_importances_\n",
    "features = iris.feature_names\n",
    "\n",
    "importance_df = pd.DataFrame({\n",
    "    'Özellik': features,\n",
    "    'Önem Skoru': feature_importances\n",
    "}).sort_values(by=\"Önem Skoru\", ascending=False)\n",
    "\n",
    "print(importance_df)"
   ]
  },
  {
   "cell_type": "markdown",
   "id": "bcc51a7f-4d3e-4df2-bc61-96027c16dced",
   "metadata": {},
   "source": [
    "Önemsiz özellikleri çıkarıp modelin doğruluk skoruna etkisini inceleyelim.\n",
    "\n",
    "Yukarıdaki modelimizde en düşük önem skoruna sahip olanlar:\n",
    "* sepal length (cm)    0.082469\n",
    "* sepal width (cm)    0.032762\n",
    "\n",
    "yani bu ikisini çıkarabiliriz.\n",
    "\n",
    "Sepal özelliklerini çıkaracağız. Sadece petal özellikleri kalacak."
   ]
  },
  {
   "cell_type": "code",
   "execution_count": 29,
   "id": "0896f3ff-efa3-4413-a503-9e94bad0c171",
   "metadata": {},
   "outputs": [
    {
     "name": "stdout",
     "output_type": "stream",
     "text": [
      "Yeni doğruluk skoru: 1.0\n"
     ]
    }
   ],
   "source": [
    "from sklearn.datasets import load_iris\n",
    "from sklearn.ensemble import RandomForestClassifier\n",
    "from sklearn.model_selection import train_test_split\n",
    "from sklearn.metrics import accuracy_score\n",
    "\n",
    "#iris verisini yükledik\n",
    "iris = load_iris()\n",
    "\n",
    "#yalnızca petal özelliklerini alacağız\n",
    "X = iris.data[:,2:4]\n",
    "y = iris.target\n",
    "\n",
    "#veri setini ayırıyoruz tts\n",
    "X_train, X_test, y_train, y_test = train_test_split(X, y, test_size=0.2, random_state=42)\n",
    "\n",
    "#modeli eğitelim\n",
    "model = RandomForestClassifier()\n",
    "model.fit(X_train, y_train)\n",
    "\n",
    "#tahmin yaptıralım\n",
    "y_pred = model.predict(X_test)\n",
    "\n",
    "#modelin doğruluğunu yazdıralım\n",
    "print(\"Yeni doğruluk skoru:\", accuracy_score(y_test, y_pred))"
   ]
  },
  {
   "cell_type": "markdown",
   "id": "eb4c39ae-4e52-401d-bcf3-a9b225138614",
   "metadata": {},
   "source": [
    "Yukarıdaki notta tahmin ettiğimiz üzere sepal uzunluğu ve genişliğinin modele hiçbir katkısı yokmuş doğruluğumuz ilk modelimizde olduğu gibi yine 1 çıktı.\n",
    "\n",
    "Gerçek Hayat Yorumlamaları:\n",
    "* Eğer bu bir sensör sistemi olsaydı sepal ölçen sensörlere ihtiyacımızın olmadığını anlardık.\n",
    "* Eğer bu bir tıp uygulaması olsaydı bu iki ölçümün hastalık tahmininde işe yaramadığını görüp bu verileri toplamayı bırakırdık.\n",
    "\n",
    "Not: Yani sadece performans değil maaliyet açısından da fikir sahibi olabiliyoruz."
   ]
  },
  {
   "cell_type": "markdown",
   "id": "6f052cf8-28d4-4e6c-b56c-6ccc4f55b48e",
   "metadata": {},
   "source": [
    "KKN (K-Nearest Neighbors) ve SVC (Support Vector Classifier)\n",
    "\n",
    "1. KNN (K-En Yakın Komşu)\n",
    "   * Mantığı: Yeni bir verinin snıfını tahmin ederken, eğitim verisindeki kendisine en yakın K tane komşuya bakar. Bu K komşularından hangisi çoğunluktaysa onu tahmin eder."
   ]
  },
  {
   "cell_type": "code",
   "execution_count": 33,
   "id": "0a380cf8-29d5-4ad6-93ee-a379aa320797",
   "metadata": {},
   "outputs": [],
   "source": [
    "from sklearn.neighbors import KNeighborsClassifier\n",
    "\n",
    "model = KNeighborsClassifier(n_neighbors=3) # k = 3 komşu\n",
    "model.fit(X_train, y_train)\n",
    "y_pred = model.predict(X_test)"
   ]
  },
  {
   "cell_type": "markdown",
   "id": "5be7ea5a-61c4-439c-b4b9-01b4e95965f9",
   "metadata": {},
   "source": [
    "Önemli Parametre:\n",
    "* n_neighbors: kaç komşuya bakılacağı (k değeri)\n",
    "* weights = 'distance': uzak komşulara daha az ağırlık verir.\n",
    "\n",
    "Avantajları\n",
    "* Çok basit ve sezgiseldir.\n",
    "* Küçük veri setlerinde çok iyi çalışır.\n",
    "\n",
    "Dezavantajları\n",
    "* Veri büyükse yavaştır.\n",
    "* Özellikle ölçekleri farklıysa sonuçlar kötü olabilir. Yani ölçekleme şarttır. (StandardScaler kullanılır.)"
   ]
  },
  {
   "cell_type": "markdown",
   "id": "426174e6-0590-4861-ba56-eed9d66125e2",
   "metadata": {},
   "source": [
    "2. SVC (Destek Vektör Sınıflandırıcısı)\n",
    "   * Mantığı: Sınıfları ikiye ayıran en iyi çizgiyi veya düzlemi bulur. Gerekirse veriyi yüksek boyutlu uzaya geçirerek doğrusal hale getirir. (kernel kullanır.)\n",
    "           "
   ]
  },
  {
   "cell_type": "code",
   "execution_count": 39,
   "id": "372eca82-7f6d-40bc-9597-93894e01e0b9",
   "metadata": {},
   "outputs": [],
   "source": [
    "from sklearn.svm import SVC\n",
    "\n",
    "model = SVC(kernel='rbf') # Gaussian Kernel (default)\n",
    "model.fit(X_train, y_train)\n",
    "y_pred = model.predict(X_test)"
   ]
  },
  {
   "cell_type": "markdown",
   "id": "3642924a-f3fe-4173-965e-af43ee5b9df0",
   "metadata": {},
   "source": [
    "Önemli Parametreler:\n",
    "* kernel: 'lineer', 'poly', 'rbf', 'sigmoid' (veri yapısına göre değişir.)\n",
    "* C: ceza parametresi (daha büyük C = daha az tolerans)\n",
    "* gamma: rbf/poly kernel için önemlidir. (veri dağılımını kontrol eder.)\n",
    "\n",
    "Avantajları:\n",
    "* Özellikle karmaşık sınıflarda çok başarılı.\n",
    "* Gürültülü veriye karşı dayanıklı\n",
    "\n",
    "Dezavantajları:\n",
    "* Büyük veri setlerinde yavaş olabilir.\n",
    "* Parametre ayarlaması dikkat ister.\n",
    "\n",
    "ÖZET TABLO\n",
    "| Algoritma | Avantaj                  | Dezavantaj            | Kullanım Durumu                      |\n",
    "| --------- | ------------------------ | --------------------- | ------------------------------------ |\n",
    "| KNN       | Kolay, yorumlaması basit | Büyük veride yavaş    | Küçük, düşük boyutlu verilerde       |\n",
    "| SVC       | Karmaşık sınırlarda iyi  | Yavaş ve ayar istiyor | Orta büyüklükte, iyi ayrılmış veride |\n"
   ]
  },
  {
   "cell_type": "code",
   "execution_count": 45,
   "id": "251e1999-235c-4ee4-a8b0-f34ff365c976",
   "metadata": {},
   "outputs": [
    {
     "name": "stdout",
     "output_type": "stream",
     "text": [
      "Doğruluk: 1.0\n"
     ]
    }
   ],
   "source": [
    "from sklearn.datasets import load_iris\n",
    "from sklearn.model_selection import train_test_split\n",
    "from sklearn.neighbors import KNeighborsClassifier\n",
    "from sklearn.metrics import accuracy_score\n",
    "from sklearn.preprocessing import StandardScaler\n",
    "\n",
    "#veri seti yükleme\n",
    "iris = load_iris()\n",
    "X = iris.data #Özellikler\n",
    "y = iris.target # Etiketler (0, 1, 2)\n",
    "\n",
    "#veriyi eğitim ve test olarak böl (örneğin %70 eğitim, %30 test)\n",
    "X_train, X_test, y_train, y_test = train_test_split(X, y, test_size=0.3, random_state=42)\n",
    "\n",
    "#KNN mesafe temelli çalıştığı için özelliklerin farklı büyüklüklerde olması\n",
    "#durumunda ölçeklendime yapılması önerilir.\n",
    "scaler = StandardScaler()\n",
    "X_train = scaler.fit_transform(X_train)\n",
    "X_test = scaler.transform(X_test)\n",
    "\n",
    "#model oluştur ve eğit\n",
    "model = KNeighborsClassifier() \n",
    "model.fit(X_train, y_train)\n",
    "\n",
    "#test verisiyle tahmin yap\n",
    "y_pred = model.predict(X_test)\n",
    "\n",
    "#doğruluk skorunu yazdır\n",
    "print(\"Doğruluk:\", accuracy_score(y_test, y_pred))"
   ]
  },
  {
   "cell_type": "code",
   "execution_count": 52,
   "id": "45880a54-ee07-4331-b2b7-8eecc5015857",
   "metadata": {},
   "outputs": [
    {
     "name": "stdout",
     "output_type": "stream",
     "text": [
      "Doğruluk: 1.0\n"
     ]
    }
   ],
   "source": [
    "from sklearn.datasets import load_iris\n",
    "from sklearn.model_selection import train_test_split\n",
    "from sklearn.svm import SVC\n",
    "from sklearn.metrics import accuracy_score\n",
    "from sklearn.preprocessing import StandardScaler\n",
    "\n",
    "#veri seti yükleme\n",
    "iris = load_iris()\n",
    "X = iris.data #Özellikler\n",
    "y = iris.target # Etiketler (0, 1, 2)\n",
    "\n",
    "#veriyi eğitim ve test olarak böl (örneğin %70 eğitim, %30 test)\n",
    "X_train, X_test, y_train, y_test = train_test_split(X, y, test_size=0.3, random_state=42)\n",
    "\n",
    "#SVC mesafe temelli çalıştığı için özellik ölçeklendirme çok önemlidir.\n",
    "#Özellikle kernel 'rbf' (default) olduğunda\n",
    "scaler = StandardScaler()\n",
    "X_train = scaler.fit_transform(X_train)\n",
    "X_test = scaler.transform(X_test)\n",
    "#bu ölçeklendirme yapılmazsa bazı veri setlerinde model performansı bayağı düşebilir.\n",
    "\n",
    "#model oluştur ve eğit\n",
    "model = SVC() \n",
    "model.fit(X_train, y_train)\n",
    "\n",
    "#test verisiyle tahmin yap\n",
    "y_pred = model.predict(X_test)\n",
    "\n",
    "#doğruluk skorunu yazdır\n",
    "print(\"Doğruluk:\", accuracy_score(y_test, y_pred))"
   ]
  },
  {
   "cell_type": "markdown",
   "id": "c58a9921-42de-4650-adf8-0264a2abdaba",
   "metadata": {},
   "source": [
    "* SVC(kernel='linear'): doğrusal ayırıcı kullanır\n",
    "* SVC(C=1.0, gamma='scale'): karmaşıklığı ve eğriliği kontrol eder"
   ]
  },
  {
   "cell_type": "markdown",
   "id": "56ba1795-216f-44b1-87d2-acd0f9f306a6",
   "metadata": {},
   "source": [
    "GridSearchCV Nedir?\n",
    "* Modeli en iyi hale getirme aşamasında kullanılır. (hiperparametre optimizasyonu)\n",
    "* Modelin performansını arttırmak için farklı parametre kombinasyonlarını otomatik olarak dener ve en iyi sonucu veren ayarı bulur.\n",
    "* sklearn.model_selection.GripSearchCV ile yapılır."
   ]
  },
  {
   "cell_type": "code",
   "execution_count": 8,
   "id": "9ad17eca-5f39-40fb-bf87-bb9fb6c6106b",
   "metadata": {},
   "outputs": [
    {
     "name": "stdout",
     "output_type": "stream",
     "text": [
      "En iyi parametreler: {'svc__C': 1, 'svc__gamma': 0.1, 'svc__kernel': 'rbf'}\n",
      "Test Doğruluğu: 1.0\n"
     ]
    }
   ],
   "source": [
    "from sklearn.model_selection import GridSearchCV\n",
    "from sklearn.svm import SVC\n",
    "from sklearn.preprocessing import StandardScaler\n",
    "from sklearn.pipeline import Pipeline\n",
    "\n",
    "# Pipeline: önce ölçekle, sonra modeli uygula\n",
    "pipeline = Pipeline([\n",
    "    ('scaler', StandardScaler()),\n",
    "    ('svc', SVC())\n",
    "])\n",
    "\n",
    "# Denenecek parametreler\n",
    "param_grid = {\n",
    "    'svc__C': [0.1, 1, 10],\n",
    "    'svc__gamma': [0.01, 0.1, 1],\n",
    "    'svc__kernel': ['linear', 'rbf']\n",
    "}\n",
    "\n",
    "# GridSearchCV nesnesi\n",
    "grid = GridSearchCV(pipeline, param_grid, cv=5, scoring='accuracy')\n",
    "grid.fit(X_train, y_train)\n",
    "\n",
    "# En iyi kombinasyon\n",
    "print(\"En iyi parametreler:\", grid.best_params_)\n",
    "\n",
    "# Test seti üzerinde skor\n",
    "best_model = grid.best_estimator_\n",
    "y_pred = best_model.predict(X_test)\n",
    "print(\"Test Doğruluğu:\", accuracy_score(y_test, y_pred))\n"
   ]
  },
  {
   "cell_type": "markdown",
   "id": "a98ef712-c133-4aac-8ca0-ea9fbaa0ae74",
   "metadata": {},
   "source": [
    "Açıklamalar\n",
    "* Pipeline: veriyi önce ölçekler, sonra modele verir.\n",
    "* param_grid: denemek istediğin her parametreyi yazarsın.\n",
    "* cv=5: 5 katlı çapraz doğrulama (veriyi 5 parçaya böler.).\n",
    "* best_estimator_: en iyi parametrelerle oluşturulmuş model.\n",
    "\n",
    "Not: KNN için de GridSearchCV yapılabilir."
   ]
  },
  {
   "cell_type": "code",
   "execution_count": 70,
   "id": "bc6ab9d8-e4d5-484a-9709-aa113362368e",
   "metadata": {},
   "outputs": [],
   "source": [
    "param_grid = {\n",
    "    'knn__n_neighbors': [1, 3, 5, 7],\n",
    "    'knn__weights': ['uniform', 'distance']\n",
    "}"
   ]
  },
  {
   "cell_type": "markdown",
   "id": "5cc70c86-a243-4853-b4de-cd4e30e1dd75",
   "metadata": {},
   "source": [
    "Decision Tree Classifier Nedir?\n",
    "* Veriyi \"ağaç\" gibi dallara ayırarak sınıflandırır.\n",
    "* İnsan gözüyle görselleştirmesi ve yorumlaması kolaydır.\n",
    "* Özellikle veri kümesindeki önemli kuralları keşfetmek için çok kullanışlıdır."
   ]
  },
  {
   "cell_type": "code",
   "execution_count": 10,
   "id": "fdc6de4c-c0a0-4f20-871e-1bb252f059b9",
   "metadata": {},
   "outputs": [
    {
     "name": "stdout",
     "output_type": "stream",
     "text": [
      "Doğruluk: 1.0\n"
     ]
    }
   ],
   "source": [
    "from sklearn.datasets import load_iris\n",
    "from sklearn.model_selection import train_test_split\n",
    "from sklearn.tree import DecisionTreeClassifier\n",
    "from sklearn.metrics import accuracy_score\n",
    "\n",
    "#Veri seti\n",
    "iris = load_iris()\n",
    "X = iris.data\n",
    "y = iris.target\n",
    "\n",
    "#eğitim test bölme\n",
    "X_train, X_test, y_train, y_test = train_test_split(X, y, test_size=0.3, random_state=42)\n",
    "\n",
    "#model oluştur\n",
    "model = DecisionTreeClassifier(random_state=42)\n",
    "model.fit(X_train, y_train)\n",
    "\n",
    "# Tahmin yap\n",
    "y_pred = model.predict(X_test)\n",
    "\n",
    "# Doğruluk\n",
    "print(\"Doğruluk:\", accuracy_score(y_test, y_pred))"
   ]
  },
  {
   "cell_type": "markdown",
   "id": "1e1a1d80-42b8-44f1-a0cf-e1cc7b1d5b43",
   "metadata": {},
   "source": [
    "Ağaç Görselleştirme "
   ]
  },
  {
   "cell_type": "code",
   "execution_count": 13,
   "id": "1f55d72f-006d-4f0e-9788-dfebab62984b",
   "metadata": {},
   "outputs": [
    {
     "data": {
      "image/png": "[encoded data removed]",
      "text/plain": [
       "<Figure size 1200x800 with 1 Axes>"
      ]
     },
     "metadata": {},
     "output_type": "display_data"
    }
   ],
   "source": [
    "from sklearn.tree import plot_tree\n",
    "import matplotlib.pyplot as plt\n",
    "\n",
    "plt.figure(figsize=(12,8))\n",
    "plot_tree(model, feature_names=iris.feature_names, class_names=iris.target_names, filled=True)\n",
    "plt.show()"
   ]
  },
  {
   "cell_type": "markdown",
   "id": "59cab986-5d8b-4936-b750-cbb66843e631",
   "metadata": {},
   "source": [
    "* max_depth: Ağacın maksimum derinliği (overfitting önler)\n",
    "* criterion: gini (varsayılan) veya entropy (bilgi kazancı)\n",
    "* min_samples_split: bir düğümün bölünmesi için gereken minimum örnek sayısı\n",
    "\n",
    "Aşağıda örnek parametre ayarı verilmiştir."
   ]
  },
  {
   "cell_type": "code",
   "execution_count": 16,
   "id": "87efc0d5-0c28-4462-a98c-f0b91b40c76e",
   "metadata": {},
   "outputs": [
    {
     "data": {
      "text/html": [
       "<style>#sk-container-id-1 {\n",
       "  /* Definition of color scheme common for light and dark mode */\n",
       "  --sklearn-color-text: black;\n",
       "  --sklearn-color-line: gray;\n",
       "  /* Definition of color scheme for unfitted estimators */\n",
       "  --sklearn-color-unfitted-level-0: #fff5e6;\n",
       "  --sklearn-color-unfitted-level-1: #f6e4d2;\n",
       "  --sklearn-color-unfitted-level-2: #ffe0b3;\n",
       "  --sklearn-color-unfitted-level-3: chocolate;\n",
       "  /* Definition of color scheme for fitted estimators */\n",
       "  --sklearn-color-fitted-level-0: #f0f8ff;\n",
       "  --sklearn-color-fitted-level-1: #d4ebff;\n",
       "  --sklearn-color-fitted-level-2: #b3dbfd;\n",
       "  --sklearn-color-fitted-level-3: cornflowerblue;\n",
       "\n",
       "  /* Specific color for light theme */\n",
       "  --sklearn-color-text-on-default-background: var(--sg-text-color, var(--theme-code-foreground, var(--jp-content-font-color1, black)));\n",
       "  --sklearn-color-background: var(--sg-background-color, var(--theme-background, var(--jp-layout-color0, white)));\n",
       "  --sklearn-color-border-box: var(--sg-text-color, var(--theme-code-foreground, var(--jp-content-font-color1, black)));\n",
       "  --sklearn-color-icon: #696969;\n",
       "\n",
       "  @media (prefers-color-scheme: dark) {\n",
       "    /* Redefinition of color scheme for dark theme */\n",
       "    --sklearn-color-text-on-default-background: var(--sg-text-color, var(--theme-code-foreground, var(--jp-content-font-color1, white)));\n",
       "    --sklearn-color-background: var(--sg-background-color, var(--theme-background, var(--jp-layout-color0, #111)));\n",
       "    --sklearn-color-border-box: var(--sg-text-color, var(--theme-code-foreground, var(--jp-content-font-color1, white)));\n",
       "    --sklearn-color-icon: #878787;\n",
       "  }\n",
       "}\n",
       "\n",
       "#sk-container-id-1 {\n",
       "  color: var(--sklearn-color-text);\n",
       "}\n",
       "\n",
       "#sk-container-id-1 pre {\n",
       "  padding: 0;\n",
       "}\n",
       "\n",
       "#sk-container-id-1 input.sk-hidden--visually {\n",
       "  border: 0;\n",
       "  clip: rect(1px 1px 1px 1px);\n",
       "  clip: rect(1px, 1px, 1px, 1px);\n",
       "  height: 1px;\n",
       "  margin: -1px;\n",
       "  overflow: hidden;\n",
       "  padding: 0;\n",
       "  position: absolute;\n",
       "  width: 1px;\n",
       "}\n",
       "\n",
       "#sk-container-id-1 div.sk-dashed-wrapped {\n",
       "  border: 1px dashed var(--sklearn-color-line);\n",
       "  margin: 0 0.4em 0.5em 0.4em;\n",
       "  box-sizing: border-box;\n",
       "  padding-bottom: 0.4em;\n",
       "  background-color: var(--sklearn-color-background);\n",
       "}\n",
       "\n",
       "#sk-container-id-1 div.sk-container {\n",
       "  /* jupyter's `normalize.less` sets `[hidden] { display: none; }`\n",
       "     but bootstrap.min.css set `[hidden] { display: none !important; }`\n",
       "     so we also need the `!important` here to be able to override the\n",
       "     default hidden behavior on the sphinx rendered scikit-learn.org.\n",
       "     See: https://github.com/scikit-learn/scikit-learn/issues/21755 */\n",
       "  display: inline-block !important;\n",
       "  position: relative;\n",
       "}\n",
       "\n",
       "#sk-container-id-1 div.sk-text-repr-fallback {\n",
       "  display: none;\n",
       "}\n",
       "\n",
       "div.sk-parallel-item,\n",
       "div.sk-serial,\n",
       "div.sk-item {\n",
       "  /* draw centered vertical line to link estimators */\n",
       "  background-image: linear-gradient(var(--sklearn-color-text-on-default-background), var(--sklearn-color-text-on-default-background));\n",
       "  background-size: 2px 100%;\n",
       "  background-repeat: no-repeat;\n",
       "  background-position: center center;\n",
       "}\n",
       "\n",
       "/* Parallel-specific style estimator block */\n",
       "\n",
       "#sk-container-id-1 div.sk-parallel-item::after {\n",
       "  content: \"\";\n",
       "  width: 100%;\n",
       "  border-bottom: 2px solid var(--sklearn-color-text-on-default-background);\n",
       "  flex-grow: 1;\n",
       "}\n",
       "\n",
       "#sk-container-id-1 div.sk-parallel {\n",
       "  display: flex;\n",
       "  align-items: stretch;\n",
       "  justify-content: center;\n",
       "  background-color: var(--sklearn-color-background);\n",
       "  position: relative;\n",
       "}\n",
       "\n",
       "#sk-container-id-1 div.sk-parallel-item {\n",
       "  display: flex;\n",
       "  flex-direction: column;\n",
       "}\n",
       "\n",
       "#sk-container-id-1 div.sk-parallel-item:first-child::after {\n",
       "  align-self: flex-end;\n",
       "  width: 50%;\n",
       "}\n",
       "\n",
       "#sk-container-id-1 div.sk-parallel-item:last-child::after {\n",
       "  align-self: flex-start;\n",
       "  width: 50%;\n",
       "}\n",
       "\n",
       "#sk-container-id-1 div.sk-parallel-item:only-child::after {\n",
       "  width: 0;\n",
       "}\n",
       "\n",
       "/* Serial-specific style estimator block */\n",
       "\n",
       "#sk-container-id-1 div.sk-serial {\n",
       "  display: flex;\n",
       "  flex-direction: column;\n",
       "  align-items: center;\n",
       "  background-color: var(--sklearn-color-background);\n",
       "  padding-right: 1em;\n",
       "  padding-left: 1em;\n",
       "}\n",
       "\n",
       "\n",
       "/* Toggleable style: style used for estimator/Pipeline/ColumnTransformer box that is\n",
       "clickable and can be expanded/collapsed.\n",
       "- Pipeline and ColumnTransformer use this feature and define the default style\n",
       "- Estimators will overwrite some part of the style using the `sk-estimator` class\n",
       "*/\n",
       "\n",
       "/* Pipeline and ColumnTransformer style (default) */\n",
       "\n",
       "#sk-container-id-1 div.sk-toggleable {\n",
       "  /* Default theme specific background. It is overwritten whether we have a\n",
       "  specific estimator or a Pipeline/ColumnTransformer */\n",
       "  background-color: var(--sklearn-color-background);\n",
       "}\n",
       "\n",
       "/* Toggleable label */\n",
       "#sk-container-id-1 label.sk-toggleable__label {\n",
       "  cursor: pointer;\n",
       "  display: block;\n",
       "  width: 100%;\n",
       "  margin-bottom: 0;\n",
       "  padding: 0.5em;\n",
       "  box-sizing: border-box;\n",
       "  text-align: center;\n",
       "}\n",
       "\n",
       "#sk-container-id-1 label.sk-toggleable__label-arrow:before {\n",
       "  /* Arrow on the left of the label */\n",
       "  content: \"▸\";\n",
       "  float: left;\n",
       "  margin-right: 0.25em;\n",
       "  color: var(--sklearn-color-icon);\n",
       "}\n",
       "\n",
       "#sk-container-id-1 label.sk-toggleable__label-arrow:hover:before {\n",
       "  color: var(--sklearn-color-text);\n",
       "}\n",
       "\n",
       "/* Toggleable content - dropdown */\n",
       "\n",
       "#sk-container-id-1 div.sk-toggleable__content {\n",
       "  max-height: 0;\n",
       "  max-width: 0;\n",
       "  overflow: hidden;\n",
       "  text-align: left;\n",
       "  /* unfitted */\n",
       "  background-color: var(--sklearn-color-unfitted-level-0);\n",
       "}\n",
       "\n",
       "#sk-container-id-1 div.sk-toggleable__content.fitted {\n",
       "  /* fitted */\n",
       "  background-color: var(--sklearn-color-fitted-level-0);\n",
       "}\n",
       "\n",
       "#sk-container-id-1 div.sk-toggleable__content pre {\n",
       "  margin: 0.2em;\n",
       "  border-radius: 0.25em;\n",
       "  color: var(--sklearn-color-text);\n",
       "  /* unfitted */\n",
       "  background-color: var(--sklearn-color-unfitted-level-0);\n",
       "}\n",
       "\n",
       "#sk-container-id-1 div.sk-toggleable__content.fitted pre {\n",
       "  /* unfitted */\n",
       "  background-color: var(--sklearn-color-fitted-level-0);\n",
       "}\n",
       "\n",
       "#sk-container-id-1 input.sk-toggleable__control:checked~div.sk-toggleable__content {\n",
       "  /* Expand drop-down */\n",
       "  max-height: 200px;\n",
       "  max-width: 100%;\n",
       "  overflow: auto;\n",
       "}\n",
       "\n",
       "#sk-container-id-1 input.sk-toggleable__control:checked~label.sk-toggleable__label-arrow:before {\n",
       "  content: \"▾\";\n",
       "}\n",
       "\n",
       "/* Pipeline/ColumnTransformer-specific style */\n",
       "\n",
       "#sk-container-id-1 div.sk-label input.sk-toggleable__control:checked~label.sk-toggleable__label {\n",
       "  color: var(--sklearn-color-text);\n",
       "  background-color: var(--sklearn-color-unfitted-level-2);\n",
       "}\n",
       "\n",
       "#sk-container-id-1 div.sk-label.fitted input.sk-toggleable__control:checked~label.sk-toggleable__label {\n",
       "  background-color: var(--sklearn-color-fitted-level-2);\n",
       "}\n",
       "\n",
       "/* Estimator-specific style */\n",
       "\n",
       "/* Colorize estimator box */\n",
       "#sk-container-id-1 div.sk-estimator input.sk-toggleable__control:checked~label.sk-toggleable__label {\n",
       "  /* unfitted */\n",
       "  background-color: var(--sklearn-color-unfitted-level-2);\n",
       "}\n",
       "\n",
       "#sk-container-id-1 div.sk-estimator.fitted input.sk-toggleable__control:checked~label.sk-toggleable__label {\n",
       "  /* fitted */\n",
       "  background-color: var(--sklearn-color-fitted-level-2);\n",
       "}\n",
       "\n",
       "#sk-container-id-1 div.sk-label label.sk-toggleable__label,\n",
       "#sk-container-id-1 div.sk-label label {\n",
       "  /* The background is the default theme color */\n",
       "  color: var(--sklearn-color-text-on-default-background);\n",
       "}\n",
       "\n",
       "/* On hover, darken the color of the background */\n",
       "#sk-container-id-1 div.sk-label:hover label.sk-toggleable__label {\n",
       "  color: var(--sklearn-color-text);\n",
       "  background-color: var(--sklearn-color-unfitted-level-2);\n",
       "}\n",
       "\n",
       "/* Label box, darken color on hover, fitted */\n",
       "#sk-container-id-1 div.sk-label.fitted:hover label.sk-toggleable__label.fitted {\n",
       "  color: var(--sklearn-color-text);\n",
       "  background-color: var(--sklearn-color-fitted-level-2);\n",
       "}\n",
       "\n",
       "/* Estimator label */\n",
       "\n",
       "#sk-container-id-1 div.sk-label label {\n",
       "  font-family: monospace;\n",
       "  font-weight: bold;\n",
       "  display: inline-block;\n",
       "  line-height: 1.2em;\n",
       "}\n",
       "\n",
       "#sk-container-id-1 div.sk-label-container {\n",
       "  text-align: center;\n",
       "}\n",
       "\n",
       "/* Estimator-specific */\n",
       "#sk-container-id-1 div.sk-estimator {\n",
       "  font-family: monospace;\n",
       "  border: 1px dotted var(--sklearn-color-border-box);\n",
       "  border-radius: 0.25em;\n",
       "  box-sizing: border-box;\n",
       "  margin-bottom: 0.5em;\n",
       "  /* unfitted */\n",
       "  background-color: var(--sklearn-color-unfitted-level-0);\n",
       "}\n",
       "\n",
       "#sk-container-id-1 div.sk-estimator.fitted {\n",
       "  /* fitted */\n",
       "  background-color: var(--sklearn-color-fitted-level-0);\n",
       "}\n",
       "\n",
       "/* on hover */\n",
       "#sk-container-id-1 div.sk-estimator:hover {\n",
       "  /* unfitted */\n",
       "  background-color: var(--sklearn-color-unfitted-level-2);\n",
       "}\n",
       "\n",
       "#sk-container-id-1 div.sk-estimator.fitted:hover {\n",
       "  /* fitted */\n",
       "  background-color: var(--sklearn-color-fitted-level-2);\n",
       "}\n",
       "\n",
       "/* Specification for estimator info (e.g. \"i\" and \"?\") */\n",
       "\n",
       "/* Common style for \"i\" and \"?\" */\n",
       "\n",
       ".sk-estimator-doc-link,\n",
       "a:link.sk-estimator-doc-link,\n",
       "a:visited.sk-estimator-doc-link {\n",
       "  float: right;\n",
       "  font-size: smaller;\n",
       "  line-height: 1em;\n",
       "  font-family: monospace;\n",
       "  background-color: var(--sklearn-color-background);\n",
       "  border-radius: 1em;\n",
       "  height: 1em;\n",
       "  width: 1em;\n",
       "  text-decoration: none !important;\n",
       "  margin-left: 1ex;\n",
       "  /* unfitted */\n",
       "  border: var(--sklearn-color-unfitted-level-1) 1pt solid;\n",
       "  color: var(--sklearn-color-unfitted-level-1);\n",
       "}\n",
       "\n",
       ".sk-estimator-doc-link.fitted,\n",
       "a:link.sk-estimator-doc-link.fitted,\n",
       "a:visited.sk-estimator-doc-link.fitted {\n",
       "  /* fitted */\n",
       "  border: var(--sklearn-color-fitted-level-1) 1pt solid;\n",
       "  color: var(--sklearn-color-fitted-level-1);\n",
       "}\n",
       "\n",
       "/* On hover */\n",
       "div.sk-estimator:hover .sk-estimator-doc-link:hover,\n",
       ".sk-estimator-doc-link:hover,\n",
       "div.sk-label-container:hover .sk-estimator-doc-link:hover,\n",
       ".sk-estimator-doc-link:hover {\n",
       "  /* unfitted */\n",
       "  background-color: var(--sklearn-color-unfitted-level-3);\n",
       "  color: var(--sklearn-color-background);\n",
       "  text-decoration: none;\n",
       "}\n",
       "\n",
       "div.sk-estimator.fitted:hover .sk-estimator-doc-link.fitted:hover,\n",
       ".sk-estimator-doc-link.fitted:hover,\n",
       "div.sk-label-container:hover .sk-estimator-doc-link.fitted:hover,\n",
       ".sk-estimator-doc-link.fitted:hover {\n",
       "  /* fitted */\n",
       "  background-color: var(--sklearn-color-fitted-level-3);\n",
       "  color: var(--sklearn-color-background);\n",
       "  text-decoration: none;\n",
       "}\n",
       "\n",
       "/* Span, style for the box shown on hovering the info icon */\n",
       ".sk-estimator-doc-link span {\n",
       "  display: none;\n",
       "  z-index: 9999;\n",
       "  position: relative;\n",
       "  font-weight: normal;\n",
       "  right: .2ex;\n",
       "  padding: .5ex;\n",
       "  margin: .5ex;\n",
       "  width: min-content;\n",
       "  min-width: 20ex;\n",
       "  max-width: 50ex;\n",
       "  color: var(--sklearn-color-text);\n",
       "  box-shadow: 2pt 2pt 4pt #999;\n",
       "  /* unfitted */\n",
       "  background: var(--sklearn-color-unfitted-level-0);\n",
       "  border: .5pt solid var(--sklearn-color-unfitted-level-3);\n",
       "}\n",
       "\n",
       ".sk-estimator-doc-link.fitted span {\n",
       "  /* fitted */\n",
       "  background: var(--sklearn-color-fitted-level-0);\n",
       "  border: var(--sklearn-color-fitted-level-3);\n",
       "}\n",
       "\n",
       ".sk-estimator-doc-link:hover span {\n",
       "  display: block;\n",
       "}\n",
       "\n",
       "/* \"?\"-specific style due to the `<a>` HTML tag */\n",
       "\n",
       "#sk-container-id-1 a.estimator_doc_link {\n",
       "  float: right;\n",
       "  font-size: 1rem;\n",
       "  line-height: 1em;\n",
       "  font-family: monospace;\n",
       "  background-color: var(--sklearn-color-background);\n",
       "  border-radius: 1rem;\n",
       "  height: 1rem;\n",
       "  width: 1rem;\n",
       "  text-decoration: none;\n",
       "  /* unfitted */\n",
       "  color: var(--sklearn-color-unfitted-level-1);\n",
       "  border: var(--sklearn-color-unfitted-level-1) 1pt solid;\n",
       "}\n",
       "\n",
       "#sk-container-id-1 a.estimator_doc_link.fitted {\n",
       "  /* fitted */\n",
       "  border: var(--sklearn-color-fitted-level-1) 1pt solid;\n",
       "  color: var(--sklearn-color-fitted-level-1);\n",
       "}\n",
       "\n",
       "/* On hover */\n",
       "#sk-container-id-1 a.estimator_doc_link:hover {\n",
       "  /* unfitted */\n",
       "  background-color: var(--sklearn-color-unfitted-level-3);\n",
       "  color: var(--sklearn-color-background);\n",
       "  text-decoration: none;\n",
       "}\n",
       "\n",
       "#sk-container-id-1 a.estimator_doc_link.fitted:hover {\n",
       "  /* fitted */\n",
       "  background-color: var(--sklearn-color-fitted-level-3);\n",
       "}\n",
       "</style><div id=\"sk-container-id-1\" class=\"sk-top-container\"><div class=\"sk-text-repr-fallback\"><pre>DecisionTreeClassifier(criterion=&#x27;entropy&#x27;, max_depth=3, random_state=42)</pre><b>In a Jupyter environment, please rerun this cell to show the HTML representation or trust the notebook. <br />On GitHub, the HTML representation is unable to render, please try loading this page with nbviewer.org.</b></div><div class=\"sk-container\" hidden><div class=\"sk-item\"><div class=\"sk-estimator  sk-toggleable\"><input class=\"sk-toggleable__control sk-hidden--visually\" id=\"sk-estimator-id-1\" type=\"checkbox\" checked><label for=\"sk-estimator-id-1\" class=\"sk-toggleable__label  sk-toggleable__label-arrow \">&nbsp;&nbsp;DecisionTreeClassifier<a class=\"sk-estimator-doc-link \" rel=\"noreferrer\" target=\"_blank\" href=\"https://scikit-learn.org/1.5/modules/generated/sklearn.tree.DecisionTreeClassifier.html\">?<span>Documentation for DecisionTreeClassifier</span></a><span class=\"sk-estimator-doc-link \">i<span>Not fitted</span></span></label><div class=\"sk-toggleable__content \"><pre>DecisionTreeClassifier(criterion=&#x27;entropy&#x27;, max_depth=3, random_state=42)</pre></div> </div></div></div></div>"
      ],
      "text/plain": [
       "DecisionTreeClassifier(criterion='entropy', max_depth=3, random_state=42)"
      ]
     },
     "execution_count": 16,
     "metadata": {},
     "output_type": "execute_result"
    }
   ],
   "source": [
    "DecisionTreeClassifier(max_depth=3, criterion='entropy', random_state=42)"
   ]
  },
  {
   "cell_type": "markdown",
   "id": "1f655f91-b679-4674-8286-db5b65601c38",
   "metadata": {},
   "source": [
    "Decision Tree modelini GridSearchCV ile optimize edelim. Böylece en iyi hiperparametreleri otomatik bulacağız."
   ]
  },
  {
   "cell_type": "code",
   "execution_count": 21,
   "id": "207dca6a-bc6c-433b-b560-e5c041cadb0f",
   "metadata": {},
   "outputs": [
    {
     "name": "stdout",
     "output_type": "stream",
     "text": [
      "En iyi parametreler: {'criterion': 'gini', 'max_depth': 3, 'min_samples_split': 2}\n",
      "Test Doğruluğu: 1.0\n"
     ]
    }
   ],
   "source": [
    "from sklearn.tree import DecisionTreeClassifier\n",
    "from sklearn.model_selection import GridSearchCV\n",
    "from sklearn.datasets import load_iris\n",
    "from sklearn.model_selection import train_test_split\n",
    "from sklearn.metrics import accuracy_score\n",
    "\n",
    "#veri seti\n",
    "iris = load_iris()\n",
    "X = iris.data\n",
    "y = iris.target\n",
    "\n",
    "#eğitim test böl\n",
    "X_train, X_test, y_train, y_test = train_test_split(X, y, test_size=0.3, random_state=42)\n",
    "\n",
    "#karar ağacı modeli\n",
    "model = DecisionTreeClassifier(random_state=42)\n",
    "\n",
    "#denenecek parametreler\n",
    "param_grid = {\n",
    "    'max_depth': [2, 3, 4, 5],\n",
    "    'criterion': ['gini', 'entropy'],\n",
    "    'min_samples_split': [2, 3, 4]\n",
    "}\n",
    "\n",
    "#GridSearchCV oluştur.\n",
    "grid = GridSearchCV(model, param_grid, cv=5, scoring='accuracy')\n",
    "grid.fit(X_train, y_train)\n",
    "\n",
    "#en iyi parametreler\n",
    "print(\"En iyi parametreler:\", grid.best_params_)\n",
    "\n",
    "#test setine tahmin\n",
    "best_model = grid.best_estimator_\n",
    "y_pred = best_model.predict(X_test)\n",
    "\n",
    "#doğruluk\n",
    "print(\"Test Doğruluğu:\", accuracy_score(y_test, y_pred))"
   ]
  },
  {
   "cell_type": "markdown",
   "id": "8171b97e-ad24-4d22-832e-1824bbee8e75",
   "metadata": {},
   "source": [
    "Notlar\n",
    "* max_depth: Ağaç çok derin olursa ezberler (overfit) Bu parametreyle kontrol ettik.\n",
    "* criterion: Hangi bölme metriği daha iyi? gini mi, entropy mi?\n",
    "* min_samples_split: Bir dalın bölünmesi için en az kaç örnek olmalı?\n",
    "\n",
    "Özelliklerin Önem Sırası"
   ]
  },
  {
   "cell_type": "code",
   "execution_count": 25,
   "id": "304577c8-d843-4a42-8181-649ddb9d0e99",
   "metadata": {},
   "outputs": [
    {
     "name": "stdout",
     "output_type": "stream",
     "text": [
      "sepal length (cm): 0.000\n",
      "sepal width (cm): 0.000\n",
      "petal length (cm): 0.925\n",
      "petal width (cm): 0.075\n"
     ]
    }
   ],
   "source": [
    "import pandas as pd\n",
    "\n",
    "importance = best_model.feature_importances_\n",
    "for name, score in zip(iris.feature_names, importance):\n",
    "    print(f\"{name}: {score:.3f}\")"
   ]
  },
  {
   "cell_type": "markdown",
   "id": "84ca925b-ea57-4957-b6a4-27b492d634b1",
   "metadata": {},
   "source": [
    "Random Forest Nedir?\n",
    "* Birden fazla karar ağacının birlikte çalışmasıyla oluşan bir ensemble (topluluk) modelidir.\n",
    "* Her ağaç farklı verilerle eğitilir, oy çokluğuyla karar verir.\n",
    "* Hem doğruluğu arttırır hem de genelleme yeteneği kuvvetlidir.\n",
    "\n",
    "RandomForestClassifier Örneği:"
   ]
  },
  {
   "cell_type": "code",
   "execution_count": 28,
   "id": "044ad6dd-aa33-4d35-af78-6e01a6108fa1",
   "metadata": {},
   "outputs": [
    {
     "name": "stdout",
     "output_type": "stream",
     "text": [
      "Doğruluk: 1.0\n"
     ]
    }
   ],
   "source": [
    "from sklearn.ensemble import RandomForestClassifier\n",
    "from sklearn.datasets import load_iris\n",
    "from sklearn.model_selection import train_test_split\n",
    "from sklearn.metrics import accuracy_score\n",
    "\n",
    "#veri seti\n",
    "iris = load_iris()\n",
    "X = iris.data\n",
    "y = iris.target\n",
    "\n",
    "#eğitim test böl\n",
    "X_train, X_test, y_train, y_test = train_test_split(X, y, test_size=0.3, random_state=42)\n",
    "\n",
    "#model oluştur\n",
    "model = RandomForestClassifier(random_state=42)\n",
    "model.fit(X_train, y_train)\n",
    "\n",
    "#tahmin\n",
    "y_pred = model.predict(X_test)\n",
    "\n",
    "#doğruluk\n",
    "print(\"Doğruluk:\", accuracy_score(y_test, y_pred))"
   ]
  },
  {
   "cell_type": "markdown",
   "id": "033c72cd-9045-4b0a-a565-cc07c84d67ad",
   "metadata": {},
   "source": [
    "En Sık Ayarlanan Parametreler\n",
    "* n_estimators: Kaç ağaç? (varsayılan: 100)\n",
    "* max_depth: ağaçların maksimum derinliği\n",
    "* min_samples_split: dalın bölünmesi için gereken minimum örnek\n",
    "* max_features: her ağaçta kaç özellik kullanılsın (sqrt, log2, None)\n",
    "\n",
    "Özellik Önem Skorları:"
   ]
  },
  {
   "cell_type": "code",
   "execution_count": 31,
   "id": "94385945-7a39-4c86-b74c-d0c8456a06f2",
   "metadata": {},
   "outputs": [
    {
     "name": "stdout",
     "output_type": "stream",
     "text": [
      "sepal length (cm): 0.104\n",
      "sepal width (cm): 0.045\n",
      "petal length (cm): 0.417\n",
      "petal width (cm): 0.434\n"
     ]
    }
   ],
   "source": [
    "import pandas as pd\n",
    "\n",
    "importances = model.feature_importances_\n",
    "for name, score in zip(iris.feature_names, importances):\n",
    "    print(f\"{name}: {score:.3f}\")"
   ]
  },
  {
   "cell_type": "markdown",
   "id": "888b64db-38ff-4641-9c12-1ff71c37a4c4",
   "metadata": {},
   "source": [
    "Logistic Regression Nedir?\n",
    "* Adında \"regression\" geçse de sınıflandırma modelidir.\n",
    "* Karar sınırı oluşturarak sınıflar arasında ayrım yapar.\n",
    "* Doğrusal olarak ayrılabilen veri setlerinde çok etkili ve hızlıdır.\n",
    "* Çok sınıflı (multiclass) veri setlerinde de kullanılabilir. (multi_class='auto' ile)"
   ]
  },
  {
   "cell_type": "code",
   "execution_count": 14,
   "id": "0c60f079-0831-4fed-b30e-e543e8e75146",
   "metadata": {},
   "outputs": [
    {
     "name": "stdout",
     "output_type": "stream",
     "text": [
      "Doğruluk: 1.0\n"
     ]
    }
   ],
   "source": [
    "from sklearn.datasets import load_iris\n",
    "from sklearn.model_selection import train_test_split\n",
    "from sklearn.linear_model import LogisticRegression\n",
    "from sklearn.metrics import accuracy_score\n",
    "\n",
    "#veri seti\n",
    "iris = load_iris()\n",
    "X = iris.data\n",
    "y = iris.target\n",
    "\n",
    "#eğitim test bölme\n",
    "X_train, X_test, y_train, y_test = train_test_split(X, y, test_size=0.3, random_state=42)\n",
    "\n",
    "#model oluştur eğit\n",
    "model = LogisticRegression(max_iter=200) #max_iter arttırmazsak bazen uyarı verir.\n",
    "model.fit(X_train, y_train)\n",
    "\n",
    "#tahmin\n",
    "y_pred = model.predict(X_test)\n",
    "\n",
    "#doğruluk\n",
    "print(\"Doğruluk:\", accuracy_score(y_test, y_pred))"
   ]
  },
  {
   "cell_type": "markdown",
   "id": "32b819b0-f163-40e6-af49-5257e40c1a4c",
   "metadata": {},
   "source": [
    "Parametreler (En Sık Ayarlananlar):\n",
    "* penalty: Regularizasyon tipi (12, 11 vs.)\n",
    "* c: Regularizasyon gücü (küçükse daha fazla ceza)\n",
    "* solver: Optimizasyon yöntemi (lbfgs, liblinear vs.)\n",
    "* multi_class: Çok sınıflı çözüm (auto, ovr, multinomial)\n",
    "* max_iter: Maksimum iterasyon sayısı (varsayılan 100, bazen yeterli olmaz.)\n",
    "\n",
    "classification_report ve confusion_matrix"
   ]
  },
  {
   "cell_type": "code",
   "execution_count": 19,
   "id": "23071d98-fa71-4ca9-add9-d01ce8ec7e13",
   "metadata": {},
   "outputs": [
    {
     "data": {
      "image/png": "[encoded data removed]",
      "text/plain": [
       "<Figure size 640x480 with 2 Axes>"
      ]
     },
     "metadata": {},
     "output_type": "display_data"
    },
    {
     "name": "stdout",
     "output_type": "stream",
     "text": [
      "              precision    recall  f1-score   support\n",
      "\n",
      "      setosa       1.00      1.00      1.00        19\n",
      "  versicolor       1.00      1.00      1.00        13\n",
      "   virginica       1.00      1.00      1.00        13\n",
      "\n",
      "    accuracy                           1.00        45\n",
      "   macro avg       1.00      1.00      1.00        45\n",
      "weighted avg       1.00      1.00      1.00        45\n",
      "\n"
     ]
    }
   ],
   "source": [
    "from sklearn.metrics import classification_report, confusion_matrix\n",
    "import seaborn as sns\n",
    "import matplotlib.pyplot as plt\n",
    "\n",
    "# Confusion matrix\n",
    "cm = confusion_matrix(y_test, y_pred)\n",
    "sns.heatmap(cm, annot=True, cmap=\"Blues\", xticklabels=iris.target_names, yticklabels=iris.target_names)\n",
    "plt.xlabel(\"Tahmin\")\n",
    "plt.ylabel(\"Gerçek\")\n",
    "plt.title(\"Confusion Matrix - Logistic Regression\")\n",
    "plt.show()\n",
    "\n",
    "# Classification report\n",
    "print(classification_report(y_test, y_pred, target_names=iris.target_names))\n"
   ]
  },
  {
   "cell_type": "markdown",
   "id": "8df8ae83-bd6e-4781-83e8-4abad485baa4",
   "metadata": {},
   "source": [
    "classification_report Nedir?\n",
    "\n",
    "classification_report çıktısı, modelinin ne kadar iyi performans gösterdiğini sadece doğruluk (accuracy) üzerinden değil, daha derin metriklerle değerlendirir.\n",
    "\n",
    "Her bir sınıf için şu metrikleri verir:\n",
    "* precision(kesinlik): Pozitif tahminlerin ne kadarı doğru?\n",
    "  * precision = doğru pozitif / (doğru pozitif + yanlış pozitif)\n",
    "* recall(duyarlılık): Gerçek pozitiflerin ne kadarını yakaladın?\n",
    "  * recall = doğru pozitif / (doğru pozitif + kaçırılan(false negatif))\n",
    "* f1-score: Precision ve recall'un dengeli ortalaması. dengesizlik varsa f1 daha güvenlidir.\n",
    "    * F1 = 2 x ((precision x recall) / (precision + recall))\n",
    "* support: Test verisinde bu sınıftan kaç tane vardı. Gerçek örnek sayısıdır. (Modelin performansını değerlendirirken bu sayı önemlidir, çünkü bazı sınıflar çok azsa f1-score dengesiz olabilir.)\n",
    "\n",
    "Alt Satırlar:\n",
    "* accuracy: Toplam doğru tahin / tüm tahmin sayısı\n",
    "* macro avg: Her sınıfın ortalama precision, recall ve f1'i (eşit ağırlıklı)\n",
    "* weighted avg: Sınıf sayısına göre ağırlıklı ortalama (gerçek dağılıma göre)\n",
    "\n",
    "Ne zaman hangisine bakılır?\n",
    "* Dengesiz sınıflar varsa: F1-score ve weighted avg\n",
    "* Sınıflar eşitse: macro avg fena değildir.\n",
    "* Hatalı pozitifler kritikse (örn: hastalık yok ama var dedi): precision\n",
    "* Kaçırmak tehlikeliyse (örn: hastalğı atlatmamak gerek): recall"
   ]
  },
  {
   "cell_type": "markdown",
   "id": "5293dd77-de2f-46be-8df5-e5dfef80231b",
   "metadata": {},
   "source": [
    "Şimdi Logistic Regression Modelini, veriyi önceden ölçekleyerek çalıştıracağız.\n",
    "Bunu pipeline ile yapacağız ki tüm işlem adımlarını zincirleyip tek satırda uygulayabilelim.\n",
    "\n",
    "Neden StandardScaler Kullanıyoruz?\n",
    "    Logistic Regression, özelliklerin ölçeğine çok duyarlıdır.\n",
    "Örneğin: biri [0-1] diğeri [0-100] arasında bir özellik varsa, model yanlış öğrenebilir.\n",
    "İşte bu yüzden StandardScaler ile tüm özellikleri standart hale getiriyoruz.\n",
    "\n",
    "yeni değer = (x-ortalama) / standart sapma"
   ]
  },
  {
   "cell_type": "code",
   "execution_count": 25,
   "id": "f63de013-cc41-477f-a7f8-fef65419baf0",
   "metadata": {},
   "outputs": [
    {
     "name": "stdout",
     "output_type": "stream",
     "text": [
      "Doğruluk: 1.0\n",
      "\n",
      "Classification Report: \n",
      "               precision    recall  f1-score   support\n",
      "\n",
      "      setosa       1.00      1.00      1.00        19\n",
      "  versicolor       1.00      1.00      1.00        13\n",
      "   virginica       1.00      1.00      1.00        13\n",
      "\n",
      "    accuracy                           1.00        45\n",
      "   macro avg       1.00      1.00      1.00        45\n",
      "weighted avg       1.00      1.00      1.00        45\n",
      "\n"
     ]
    }
   ],
   "source": [
    "from sklearn.datasets import load_iris\n",
    "from sklearn.model_selection import train_test_split\n",
    "from sklearn.pipeline import Pipeline\n",
    "from sklearn.preprocessing import StandardScaler\n",
    "from sklearn.linear_model import LogisticRegression\n",
    "from sklearn.metrics import classification_report, accuracy_score\n",
    "\n",
    "#veri seti\n",
    "iris = load_iris()\n",
    "X = iris.data\n",
    "y = iris.target\n",
    "\n",
    "#eğitim test ayır\n",
    "X_train, X_test, y_train, y_test = train_test_split(X, y, test_size=0.3, random_state=42)\n",
    "\n",
    "#pipeline: önce ölçekle, sonra modeli uygula\n",
    "pipe = Pipeline([\n",
    "    ('skaler', StandardScaler()),\n",
    "    ('log_reg', LogisticRegression(max_iter=200))\n",
    "])\n",
    "\n",
    "#eğit\n",
    "pipe.fit(X_train, y_train)\n",
    "\n",
    "#tahmin yap\n",
    "y_pred = pipe.predict(X_test)\n",
    "\n",
    "#değerlendirme\n",
    "print(\"Doğruluk:\", accuracy_score(y_test, y_pred))\n",
    "print(\"\\nClassification Report: \\n\", classification_report(y_test, y_pred, target_names=iris.target_names))"
   ]
  },
  {
   "cell_type": "markdown",
   "id": "9ba42b64-f011-4006-9edc-99fc0e2a9b94",
   "metadata": {},
   "source": [
    "Bu Yapının Faydaları:\n",
    "| Özellik                                    | Açıklama                                                   |\n",
    "| ------------------------------------------ | ---------------------------------------------------------- |\n",
    "| 🔄 Otomatik işlem sırası                   | Önce scaler → sonra model çalışır                          |\n",
    "| 💼 Modeli tekrar eğitirken tek satır yeter | `.fit()` tüm işlemleri içerir                              |\n",
    "| 📦 GridSearch gibi işlemlerde kolaylık     | Pipeline içine tüm adımlar dahil olur                      |\n",
    "| 🔐 Test verisine sızıntı yok               | Scaler **sadece eğitim verisinde** öğreniyor (çok önemli!) |\n",
    "\n"
   ]
  },
  {
   "cell_type": "markdown",
   "id": "7ab53d57-76e0-4b61-add6-9a8226e4199a",
   "metadata": {},
   "source": [
    "GradientBoostingClassifier\n",
    "\n",
    "Birçok zayıf sınıflandırıcının (genellikle decision tree) hatalarını telafi ederek adım adım güçlü bir model oluşturan bir ensemble (topluluk) yöntemidir.\n",
    "\n",
    "Nasıl Çalışır?\n",
    "1. İlk model veriyi tahmin eder. (örneğin, karar ağacı)\n",
    "2. Tahmin edemediği hataları (residual) hesaplar.\n",
    "3. Yeni model bu hataları tahmin etmeye çalışır.\n",
    "4. Tüm modeller birleşerek final sonucu verir.\n",
    "\n",
    "Bu süreçte her model bir öncekine \"gradient descent\" mantığıyla katkı yapar. Bu yüzden adı: Gradient Boosting.\n",
    "\n",
    "GradientBoostingClassifier'ın Avantajları\n",
    "| Avantaj                                  | Açıklama                                          |\n",
    "| ---------------------------------------- | ------------------------------------------------- |\n",
    "| 🎯 Yüksek doğruluk                       | Karar ağaçlarına göre genelde çok daha güçlüdür   |\n",
    "| 🧩 Özellik önemi sağlar                  | Özelliklerin önem sırasını çıkarabilirsin         |\n",
    "| 🎛️ Parametrelerle ince ayar yapılabilir | `learning_rate`, `n_estimators`, `max_depth` gibi |\n",
    "| 🛡️ Aşırı öğrenmeye karşı kontrollü      | Boosting yapısı sayesinde daha dengelidir         |"
   ]
  },
  {
   "cell_type": "code",
   "execution_count": 33,
   "id": "0db9fb0e-f43e-43fc-8057-851c96f6bf8e",
   "metadata": {},
   "outputs": [
    {
     "name": "stdout",
     "output_type": "stream",
     "text": [
      "Doğruluk: 1.0\n",
      "\n",
      "Classification Report: \n",
      "               precision    recall  f1-score   support\n",
      "\n",
      "      setosa       1.00      1.00      1.00        19\n",
      "  versicolor       1.00      1.00      1.00        13\n",
      "   virginica       1.00      1.00      1.00        13\n",
      "\n",
      "    accuracy                           1.00        45\n",
      "   macro avg       1.00      1.00      1.00        45\n",
      "weighted avg       1.00      1.00      1.00        45\n",
      "\n"
     ]
    }
   ],
   "source": [
    "from sklearn.datasets import load_iris\n",
    "from sklearn.model_selection import train_test_split\n",
    "from sklearn.ensemble import GradientBoostingClassifier\n",
    "from sklearn.metrics import accuracy_score, classification_report\n",
    "\n",
    "#veri\n",
    "iris = load_iris()\n",
    "X = iris.data\n",
    "y = iris.target\n",
    "\n",
    "#eğitim test böl\n",
    "X_train, X_test, y_train, y_test = train_test_split(X, y, test_size=0.3, random_state=42)\n",
    "\n",
    "#model\n",
    "model = GradientBoostingClassifier() #varsayılan parametreler\n",
    "model.fit(X_train, y_train)\n",
    "\n",
    "#tahmin\n",
    "y_pred = model.predict(X_test)\n",
    "\n",
    "#değerlendirme\n",
    "print(\"Doğruluk:\", accuracy_score(y_test, y_pred))\n",
    "print(\"\\nClassification Report: \\n\", classification_report(y_test, y_pred, target_names=iris.target_names))"
   ]
  },
  {
   "cell_type": "markdown",
   "id": "bab25e52-c3ea-4eb2-8353-a44b2e9ad43c",
   "metadata": {},
   "source": [
    "En Önemli Parametreler\n",
    "* n_estimators: Kaç tane ağaç oluşturulacak (örnek: 100)\n",
    "* learning_rate: Her ağacın katkı oranı (düşükse daha yavaş ama sağlam öğrenir)\n",
    "* max_depth: Her ağacın maksimum derinliği\n",
    "* subsample: Verinin yüzde kaçıyla her model eğitilsin (overfitting'i azaltır)\n",
    "* random_state: sonuçları tekrarlanabilir hale getirir.\n",
    "\n",
    "Özellik Önem Sıralaması"
   ]
  },
  {
   "cell_type": "code",
   "execution_count": 38,
   "id": "6b0b3526-67f5-477d-8750-a3933b5a642b",
   "metadata": {},
   "outputs": [
    {
     "name": "stdout",
     "output_type": "stream",
     "text": [
      "petal length (cm)    0.565022\n",
      "petal width (cm)     0.413513\n",
      "sepal width (cm)     0.017842\n",
      "sepal length (cm)    0.003623\n",
      "dtype: float64\n"
     ]
    }
   ],
   "source": [
    "import pandas as pd\n",
    "\n",
    "feature_importance = pd.Series(model.feature_importances_, index=iris.feature_names)\n",
    "print(feature_importance.sort_values(ascending=False))"
   ]
  },
  {
   "cell_type": "markdown",
   "id": "a6db3790-b36f-440f-99c9-619e7e37f05a",
   "metadata": {},
   "source": [
    "Model Seçme ve Karşılaştırma: cross_val_score (çapraz doğrulama)\n",
    "* cross_val_score: Veri setini otomatik bölerek k-fold cross-validation uygular.\n",
    "* 3 model kıyaslayacağız:\n",
    "  * LogisticRegression\n",
    "  * SVC\n",
    "  * GradientBoostingClassifier"
   ]
  },
  {
   "cell_type": "code",
   "execution_count": 12,
   "id": "0a67b3e9-6a06-449a-93fb-127f670742fb",
   "metadata": {},
   "outputs": [
    {
     "name": "stdout",
     "output_type": "stream",
     "text": [
      "Logistic Regression: Ortalama Doğruluk = 0.9807 (+/- 0.0065)\n",
      "SVC: Ortalama Doğruluk = 0.9736 (+/- 0.0147)\n",
      "Gradient Boosting: Ortalama Doğruluk = 0.9614 (+/- 0.0226)\n"
     ]
    }
   ],
   "source": [
    "from sklearn.datasets import load_breast_cancer\n",
    "from sklearn.model_selection import cross_val_score\n",
    "from sklearn.pipeline import Pipeline\n",
    "from sklearn.preprocessing import StandardScaler\n",
    "from sklearn.linear_model import LogisticRegression\n",
    "from sklearn.svm import SVC\n",
    "from sklearn.ensemble import GradientBoostingClassifier\n",
    "\n",
    "#veri seti\n",
    "data = load_breast_cancer()\n",
    "X = data.data\n",
    "y = data.target\n",
    "\n",
    "#modelleri ve pipelineları oluşturur\n",
    "models = {\n",
    "    'Logistic Regression': Pipeline([\n",
    "        ('scaler', StandardScaler()),\n",
    "        ('clf', LogisticRegression(max_iter=500))\n",
    "    ]),\n",
    "    'SVC': Pipeline([\n",
    "        ('scaler', StandardScaler()),\n",
    "        ('clf', SVC())\n",
    "    ]),\n",
    "    'Gradient Boosting': GradientBoostingClassifier()\n",
    "}\n",
    "\n",
    "#Her model için çapraz doğrulama (5-fold)\n",
    "for name, model in models.items():\n",
    "    scores = cross_val_score(model, X, y, cv=5)\n",
    "    print(f\"{name}: Ortalama Doğruluk = {scores.mean():.4f} (+/- {scores.std():.4f})\")"
   ]
  },
  {
   "cell_type": "markdown",
   "id": "d57fae3b-2ccf-4bbb-be9b-05e09d3fbd73",
   "metadata": {},
   "source": [
    "Bu çıktıdan ne öğreneceğiz?\n",
    "* Gerçek bir veride hangi model daha iyi?\n",
    "* Modelin doğruluğu sabit mi değişken mi?\n",
    "* Scaling etkili mi? (SVC için çok önemli)\n",
    "\n",
    "Üstteki çıktıyı analiz edelim:\n",
    "1. Logistic Regression\n",
    "   * Ortalama doğruluk: 0.9807\n",
    "   * Standard sapma: +/-0.0065\n",
    "   * Yorum:\n",
    "     * En yüksek doğruluğa sahip model bu.\n",
    "     * Standart sapma çok düşük. => Tahminleri kararlı ve güvenilir.\n",
    "     * Bu veri seti lineer ayrılabiliyor olabilir. => Logistic Regression çok başarılı.\n",
    "2. Support Vector Classifier (SVC)\n",
    "   * Ortalama doğruluk: 0.9736\n",
    "   * Standart sapma: +/-0.0147\n",
    "   * Yorum:\n",
    "     * Yine çok iyi ama Logistic Regression'dan biraz daha düşük.\n",
    "     * Hafif dalgalanmalar var (+/-0.0147), yani bazı fold'larda daha iyi, bazılarında daha kötü\n",
    "     * Bu da, modelin bazı veri bölünmelerinde daha az uyum sağladığını gösteriyor.\n",
    "3. Gradient Boosting\n",
    "   * Ortalama Doğruluk: 0.9631\n",
    "   * Standart Sapma: +/-0.0210\n",
    "   * Yorum:\n",
    "     * Doğruluk güzel ama diğer iki modele göre daha düşük kaldı.\n",
    "     * En yüksek dalgalanma bunda. => Overfitting'e hafif meyilli olabilir.\n",
    "     * Bu model genellikle daha karmaşık veya hatalı verilerde öne çıkar. Bu veri seti \"çok temiz\" olabilir.\n",
    "\n",
    "Genel Yorum\n",
    "| Model      | Ortalama Doğruluk | Güvenilirlik (±) | Not                                           |\n",
    "| ---------- | ----------------- | ---------------- | --------------------------------------------- |\n",
    "| **LogReg** | ✅ En iyi          | ✅ En stabil      | 🔥 Favori model bu                            |\n",
    "| **SVC**    | Çok iyi           | Orta stabil      | Normalde çok güçlü, ama burada 2.             |\n",
    "| **GB**     | İyi ama düşük     | Dalgalı          | Veri seti için fazla kompleks kalmış olabilir |"
   ]
  },
  {
   "cell_type": "markdown",
   "id": "83278f6d-6970-4414-af1e-e9e95bf54502",
   "metadata": {},
   "source": [
    "Hiperparametre Ayarı\n",
    "\n",
    "Bazı parametreler modelin performansını doğrudan etkiler. Bunlara hiperparametre denir. Bu ayarı doğru yaparsak modelin doğruluğu ciddi oranda artabilir.\n",
    "\n",
    "Kullanacağımız Araçlar:\n",
    "| Yöntem                 | Ne yapar?                                              | Farkı                                       |\n",
    "| ---------------------- | ------------------------------------------------------ | ------------------------------------------- |\n",
    "| **GridSearchCV**       | Belirlediğimiz tüm kombinasyonları **tek tek** dener   | **Kesin çözüm** ama yavaş                   |\n",
    "| **RandomizedSearchCV** | Belirli sayıda kombinasyonu **rastgele seçerek** dener | **Hızlı**, ama kesin optimumu bulamayabilir |\n",
    "\n",
    "Örnekle Açlayalım: LogisticRegression + GridSearchCV"
   ]
  },
  {
   "cell_type": "code",
   "execution_count": 16,
   "id": "e31a61a7-0403-4cdd-8772-48e4c995e949",
   "metadata": {},
   "outputs": [
    {
     "name": "stdout",
     "output_type": "stream",
     "text": [
      "En iyi parametreler: {'clf__C': 0.1, 'clf__penalty': 'l2', 'clf__solver': 'liblinear'}\n",
      "En iyi doğruluk: 0.9824406148113647\n"
     ]
    }
   ],
   "source": [
    "from sklearn.model_selection import GridSearchCV\n",
    "from sklearn.pipeline import Pipeline\n",
    "from sklearn.preprocessing import StandardScaler\n",
    "from sklearn.linear_model import LogisticRegression\n",
    "\n",
    "# Pipeline ile standardizasyon ve model\n",
    "pipe = Pipeline([\n",
    "    ('scaler', StandardScaler()),\n",
    "    ('clf', LogisticRegression(max_iter=500))\n",
    "])\n",
    "\n",
    "# Hiperparametre aralığını tanımla\n",
    "param_grid = {\n",
    "    'clf__C': [0.01, 0.1, 1, 10, 100],     # Ceza katsayısı\n",
    "    'clf__penalty': ['l2'],               # Ceza türü (l1 de olur ama varsayılan solver desteklemeyebilir)\n",
    "    'clf__solver': ['lbfgs', 'liblinear'] # Çözüm algoritması\n",
    "}\n",
    "\n",
    "# GridSearchCV tanımla\n",
    "grid = GridSearchCV(pipe, param_grid, cv=5, scoring='accuracy')\n",
    "grid.fit(X, y)\n",
    "\n",
    "# En iyi parametre ve skor\n",
    "print(\"En iyi parametreler:\", grid.best_params_)\n",
    "print(\"En iyi doğruluk:\", grid.best_score_)"
   ]
  },
  {
   "cell_type": "markdown",
   "id": "d6a655a2-caab-420a-8af8-cdae4943e729",
   "metadata": {},
   "source": [
    "Şimdi aynısını RandomizedSearchCV ile yapalım:"
   ]
  },
  {
   "cell_type": "code",
   "execution_count": 19,
   "id": "21d26bfe-608f-49f1-b580-a0f18c68e4ee",
   "metadata": {},
   "outputs": [
    {
     "name": "stdout",
     "output_type": "stream",
     "text": [
      "En iyi parametreler: {'clf__C': 0.08787658410143283, 'clf__solver': 'liblinear'}\n",
      "En iyi doğruluk: 0.9824406148113647\n"
     ]
    }
   ],
   "source": [
    "from sklearn.model_selection import RandomizedSearchCV\n",
    "from scipy.stats import uniform\n",
    "\n",
    "param_dist = {\n",
    "    'clf__C': uniform(0.01, 100),  # Sürekli dağılım\n",
    "    'clf__solver': ['lbfgs', 'liblinear']\n",
    "}\n",
    "\n",
    "random_search = RandomizedSearchCV(pipe, param_distributions=param_dist, \n",
    "                                   n_iter=10, cv=5, scoring='accuracy', random_state=42)\n",
    "random_search.fit(X, y)\n",
    "\n",
    "print(\"En iyi parametreler:\", random_search.best_params_)\n",
    "print(\"En iyi doğruluk:\", random_search.best_score_)"
   ]
  },
  {
   "cell_type": "markdown",
   "id": "2ba7ae1f-b7ef-4053-939c-d3cccc0bba21",
   "metadata": {},
   "source": [
    "Ne Zaman Hangisi Kullanılmalı?\n",
    "| Durum                                   | Tercih               |\n",
    "| --------------------------------------- | -------------------- |\n",
    "| Küçük parametre aralığı                 | ✅ GridSearchCV       |\n",
    "| Geniş aralık, hızlı sonuç istiyorsan    | ✅ RandomizedSearchCV |\n",
    "| Sonuca garantiyle ulaşmak istersen      | ✅ GridSearchCV       |\n",
    "| Tahmini hızlıca iyileştirmek istiyorsan | ✅ RandomizedSearchCV |\n",
    "\n",
    "\n",
    "Sonuç:\n",
    "* İkisi de çapraz doğrulama ile çalışır.\n",
    "* Amaç: Modelin en iyi ayarlarını veriye özel olarak bulmak.\n",
    "* best_estimator_ => Tüm pipeline'ı, en iyi ayarlarla geri verir."
   ]
  },
  {
   "cell_type": "code",
   "execution_count": 22,
   "id": "a76f55ee-3de6-455c-943e-a42de737ee52",
   "metadata": {},
   "outputs": [
    {
     "name": "stdout",
     "output_type": "stream",
     "text": [
      "En iyi parametreler: {'clf__C': 0.1, 'clf__penalty': 'l2', 'clf__solver': 'liblinear'}\n",
      "En iyi doğruluk (cross-val): 0.9824406148113647\n"
     ]
    }
   ],
   "source": [
    "from sklearn.datasets import load_breast_cancer\n",
    "from sklearn.model_selection import GridSearchCV\n",
    "from sklearn.pipeline import Pipeline\n",
    "from sklearn.preprocessing import StandardScaler\n",
    "from sklearn.linear_model import LogisticRegression\n",
    "\n",
    "# 1. Veri setini yükle\n",
    "data = load_breast_cancer()\n",
    "X = data.data\n",
    "y = data.target\n",
    "\n",
    "# 2. Pipeline: StandardScaler + LogisticRegression\n",
    "pipe = Pipeline([\n",
    "    ('scaler', StandardScaler()),\n",
    "    ('clf', LogisticRegression(max_iter=500))\n",
    "])\n",
    "\n",
    "# 3. Parametre ızgarasını tanımla\n",
    "param_grid = {\n",
    "    'clf__C': [0.01, 0.1, 1, 10, 100],\n",
    "    'clf__penalty': ['l2'],\n",
    "    'clf__solver': ['lbfgs', 'liblinear']\n",
    "}\n",
    "\n",
    "# 4. GridSearchCV tanımla\n",
    "grid = GridSearchCV(pipe, param_grid, cv=5, scoring='accuracy', n_jobs=-1)\n",
    "grid.fit(X, y)\n",
    "\n",
    "# 5. Sonuçları yazdır\n",
    "print(\"En iyi parametreler:\", grid.best_params_)\n",
    "print(\"En iyi doğruluk (cross-val):\", grid.best_score_)\n"
   ]
  },
  {
   "cell_type": "markdown",
   "id": "a53547fa-6023-4e83-8928-4edcb9da155f",
   "metadata": {},
   "source": [
    "| Parametre | Anlamı                                                                  |\n",
    "| --------- | ----------------------------------------------------------------------- |\n",
    "| `C`       | **Düzenleme gücü**: Küçükse regularization fazladır (daha sade model)   |\n",
    "| `penalty` | `l2`: ceza terimi, büyük ağırlıkları cezalandırır                       |\n",
    "| `solver`  | Denklemleri çözme algoritması (`liblinear`: küçük veri, `lbfgs`: hızlı) |\n",
    "\n",
    "NOT:\n",
    "* StandardScaler mutlaka olmalı => C değeri ölçekten çok etkilenir.\n",
    "* GridSearchCV, 5 katlı çapraz doğrulama yapar, bu da sonuçları sağlamlaştırır.\n",
    "* n_jobs=-1: İşleciyi tam kapasite kullanır (işi hızlandırır).\n",
    "\n",
    "Yukarıdaki kodun çıktılarını yorumlayalım:\n",
    "* En İyi Parmetreler:\n",
    "  * C: 0.1 => Güçlü regularization (daha sade, genelleme yeteneği yüksek model)\n",
    "  * penalty: l2 => Ağırlıkları büyümekten korur, overfitting'i azaltır.\n",
    "  * solver: liblinear => Küçük/orta veri setleri için idealdir. C'ye daha hassas tepki verir.\n",
    "* Doğruluk (cross-val):\n",
    "  * 0.9824 => %98.2 başarı, üstelik bu çapraz doğrulama ortalaması.\n",
    "  * Yani model her katlamada tutarlı başarı sağlıyor. => stabil ve güvenilir\n",
    "\n",
    "Sonuç:\n",
    "* Hiperparametre ayarıyla modeli fazla karmaşıklaştırmadan maksimum doğruluğu elde ettik.\n",
    "* Artık bu modeli gerçek dünya verisinde rahatlıkla kullanabiliriz."
   ]
  },
  {
   "cell_type": "markdown",
   "id": "2f858a50-1d9c-4271-820f-131c603a1487",
   "metadata": {},
   "source": [
    "Regresyon Nedir?\n",
    "* Regresyon, etiketlerin (target) sürekli sayısal olduğu durumlar için kullanılır.\n",
    "* Örnekler:\n",
    "  * Ev fiyatı tahmini\n",
    "  * Hava sıcaklığı\n",
    "  * Maaş, yaş, puan gibi gerçek değerler\n",
    "\n",
    "1. Seviye Regresyon Modelleri\n",
    "   | Model                 | Ne işe yarar?                          | Özelliği                   |\n",
    "| --------------------- | -------------------------------------- | -------------------------- |\n",
    "| **Linear Regression** | En basit regresyon modeli              | Hızlı, yorumsal            |\n",
    "| **Ridge Regression**  | L2 cezası ekler (overfitting azaltır)  | Büyük katsayıları küçültür |\n",
    "| **Lasso Regression**  | L1 cezası ekler (özellik seçimi yapar) | Bazı katsayıları sıfırlar  |\n",
    "| **ElasticNet**        | L1 + L2 birleşimi                      | Dengeli yaklaşım           |\n"
   ]
  },
  {
   "cell_type": "markdown",
   "id": "ca2775c1-f8d2-4043-96e9-9a7de8bf2ecc",
   "metadata": {},
   "source": [
    "1. Adım: Linear Regression ile Diyabet İlerleme Skoru Tahmini"
   ]
  },
  {
   "cell_type": "code",
   "execution_count": 26,
   "id": "8d5cfcd6-72f0-445e-9924-b91401b68e30",
   "metadata": {},
   "outputs": [
    {
     "name": "stdout",
     "output_type": "stream",
     "text": [
      "Ortalama Kate Hata (MSE): 2900.193628493482\n",
      "R-Kare (R^2) Skoru: 0.4526027629719195\n"
     ]
    }
   ],
   "source": [
    "from sklearn.datasets import load_diabetes\n",
    "from sklearn.linear_model import LinearRegression\n",
    "from sklearn.model_selection import train_test_split\n",
    "from sklearn.metrics import mean_squared_error, r2_score\n",
    "\n",
    "#veri seti\n",
    "diabetes = load_diabetes()\n",
    "X = diabetes.data\n",
    "y = diabetes.target #sayısal değer (diyabet ilerleme skoru)\n",
    "\n",
    "#eğitim test veri bölme\n",
    "X_train, X_test, y_train, y_test = train_test_split(X, y, test_size=0.2, random_state=42)\n",
    "\n",
    "#model oluştur ve eğit\n",
    "model = LinearRegression()\n",
    "model.fit(X_train, y_train)\n",
    "\n",
    "#test verisiyle tahmin yap\n",
    "y_pred = model.predict(X_test)\n",
    "\n",
    "#performans ölç\n",
    "mse = mean_squared_error(y_test, y_pred)\n",
    "r2 = r2_score(y_test, y_pred)\n",
    "\n",
    "print(\"Ortalama Kate Hata (MSE):\", mse)\n",
    "print(\"R-Kare (R^2) Skoru:\", r2)"
   ]
  },
  {
   "cell_type": "markdown",
   "id": "f23d8b16-bf3b-4bf4-86be-4c5f41fa63a0",
   "metadata": {},
   "source": [
    "Çıktılar Ne Anlama Geliyor?\n",
    "| Ölçüt                        | Açıklama                                                          |\n",
    "| ---------------------------- | ----------------------------------------------------------------- |\n",
    "| **MSE (Mean Squared Error)** | Tahmin hatalarının ortalama karesi. Ne kadar küçükse o kadar iyi. |\n",
    "| **R² (R-Kare Skoru)**        | Modelin veriyi ne kadar iyi açıkladığını gösterir.                |\n",
    "\n",
    "* 1.0: Mükemmel Tahmin\n",
    "* 0.0: Model hiçbir açıklama yapamıyor.\n",
    "* < 0: Model rastgele tahminden kötü\n",
    "\n",
    "Yukarıdaki çıktıların anlamları:\n",
    "* MSE (2900.19): Ortalama hata karelerinin toplamı bu. Tahminlerin gerçek değerlere bu kadar ortalama kare uzaklıkta. Orta seviye bir hata.\n",
    "* R^2 Skoru (0.4526): Bu model, verideki değişimin yaklaşık %45'imi açıklayabiliyor. Bu, basit bir lineer modele göre fena değil ama daha iyisi olabilir.\n",
    "\n",
    "* Modelimiz biraz tahmin edebiliyor, ama hala önemli bir kısmı açıklanamamış.\n",
    "* Bu yüzden daha sağlam modeller denemek gerek => özellikle:\n",
    "  * Aşırı öğrenmeyi azaltmak için Ridge\n",
    "  * Özellik seçim etkisi görmek için Lasso"
   ]
  },
  {
   "cell_type": "markdown",
   "id": "9d4c7360-b5f9-4474-abd9-860fe7460223",
   "metadata": {},
   "source": [
    "Ridge Regression Nedir?\n",
    "* Bu model, Linear Regression'un biraz daha disiplinli versiyonudur.\n",
    "* Linear Regression + L2 Regularizasyon\n",
    "* Büyük katsayıları küçülterek overfitting'i önler.\n",
    "* alpha adlı parametre ile modelin ceza gücü ayarlanır."
   ]
  },
  {
   "cell_type": "code",
   "execution_count": 31,
   "id": "4c65bd79-2e6c-4a9d-b8e3-870aa24b0278",
   "metadata": {},
   "outputs": [
    {
     "name": "stdout",
     "output_type": "stream",
     "text": [
      "Ridge Regression MSE: 2856.4868876706546\n",
      "Ridge Regression R^2: 0.4608521946411924\n"
     ]
    }
   ],
   "source": [
    "from sklearn.linear_model import Ridge\n",
    "\n",
    "#Ridge model oluştur. (alpha ceza gücüdür.)\n",
    "ridge = Ridge(alpha=0.1) #Bu değeri daha sonra değiştirebiliriz.\n",
    "ridge.fit(X_train, y_train)\n",
    "\n",
    "#tahmin yap\n",
    "y_pred_ridge = ridge.predict(X_test)\n",
    "\n",
    "#performans ölç\n",
    "mse_ridge = mean_squared_error(y_test, y_pred_ridge)\n",
    "r2_ridge = r2_score(y_test, y_pred_ridge)\n",
    "\n",
    "print(\"Ridge Regression MSE:\", mse_ridge)\n",
    "print(\"Ridge Regression R^2:\", r2_ridge)"
   ]
  },
  {
   "cell_type": "markdown",
   "id": "30502dc1-9ce4-410e-930f-50af018bf822",
   "metadata": {},
   "source": [
    "Karşılaştırmalı Performans (Linear vs Ridge)\n",
    "| Ölçüt   | LinearRegression | RidgeRegression | Yorum                                           |\n",
    "| ------- | ---------------- | --------------- | ----------------------------------------------- |\n",
    "| **MSE** | 2900.19          | **2856.49**     | Ridge daha düşük hata → **daha iyi genellemiş** |\n",
    "| **R²**  | 0.4526           | **0.4609**      | Veriyi daha iyi açıklıyor (yüzde 46)            |\n",
    "\n",
    "Ne anlama geliyor?\n",
    "* Ridge modeli, Linear Regression'dan biraz daha iyi çıktı\n",
    "* Özellikle MSE'de düşüş ve R^2'de yükselme oldu.\n",
    "* Bu da Ridge'in ceza (regularization) etkisinin işe yaradığını gösteriyor.\n",
    "* Yani model aşırı öğrenmden kaçındı ve daha sağlam bir genelleme yaptı."
   ]
  },
  {
   "cell_type": "markdown",
   "id": "602199b3-f07f-49d6-9fe3-54d3e20b31b4",
   "metadata": {},
   "source": [
    "Lasso Regression Nedir?\n",
    "* Ridge'in kardeşi ama çok daha radikal davranıyor.\n",
    "* Linear Regression + L1 regularizasyon\n",
    "* alpha cezası sayesinde bazı katsayıları tamamen sıfıra indirir.\n",
    "* Böylece önemsiz özellikleri atar. => özellik seçimi gibi çalışır.\n",
    "* Yani: Hem tahmin, hem sadeleştirme"
   ]
  },
  {
   "cell_type": "code",
   "execution_count": 35,
   "id": "56c7cc0d-4a28-461c-bcb8-1a85ae75cd6a",
   "metadata": {},
   "outputs": [
    {
     "name": "stdout",
     "output_type": "stream",
     "text": [
      "Lasso Regression MSE: 3403.5757216070747\n",
      "Lasso Regression R^2: 0.3575918767219112\n",
      "[  0.          -0.         413.43184792  34.83051518   0.\n",
      "   0.          -0.           0.         258.15289363   0.        ]\n"
     ]
    }
   ],
   "source": [
    "from sklearn.linear_model import Lasso\n",
    "\n",
    "#Lasso model oluştur\n",
    "lasso = Lasso(alpha=1.0, max_iter=10000) #max_iter bazen gerekli oluyor.\n",
    "lasso.fit(X_train, y_train)\n",
    "\n",
    "#tahmin yap\n",
    "y_pred_lasso = lasso.predict(X_test)\n",
    "\n",
    "#performans ölç\n",
    "mse_lasso = mean_squared_error(y_test, y_pred_lasso)\n",
    "r2_lasso = r2_score(y_test, y_pred_lasso)\n",
    "\n",
    "print(\"Lasso Regression MSE:\", mse_lasso)\n",
    "print(\"Lasso Regression R^2:\", r2_lasso)\n",
    "print(lasso.coef_)"
   ]
  },
  {
   "cell_type": "markdown",
   "id": "5ae7b680-24f9-4874-8602-1676167ca256",
   "metadata": {},
   "source": [
    "Lasso Regression Sonuçları\n",
    "* MSE (3403.58): Linear ve Ridge'e göre daha yüksek hata, çünkü model bazı özellikleri atmış.\n",
    "* R^2 (0.3576): Verideki değişimin sadece %35'ini açıklayabiliyor, çünkü daha az bilgiyle çalışıyor.\n",
    "\n",
    "Özellik Seçimi (Feature Selection)\n",
    "* coef_ çıktısının anlamı: 10 özellikten sadece 3 tanesi kullanılıyor demektir.:\n",
    "  * 3. özellik (index 2)\n",
    "  * 4. özellik (index 3)\n",
    "  * 9. özellik (index 8)\n",
    "* Geri kalanları tamamen sıfırlamış yani \"bunlar gereksiz\" demiş.\n",
    "* Bu sayede model daha sade ama biraz da bilgi kaybı yaşamış.\n",
    "\n",
    "Ne Öğrendik?\n",
    "* Lasso, özellikleri sıfırlayarak sadeleşme sağlar.\n",
    "* Ama bu sadeleşme, bazen doğruluğa mal olabilir.\n",
    "* Model seçimi, probleme göre yapılmalı => sade model mi yoksa güçlü ama karmaşık model mi istiyoruz?"
   ]
  },
  {
   "cell_type": "markdown",
   "id": "91316b1e-9d74-4c91-b165-d7031dbac464",
   "metadata": {},
   "source": [
    "Karşılaştırma Grafiği (MSE vs R^2)\n",
    "* Kırmızı Çubuklar: MSE (ne kadar düşükse o kadar iyi)\n",
    "* Mavi Çubuklar: R^2 (ne kadar yüksekse o kadar iyi)"
   ]
  },
  {
   "cell_type": "code",
   "execution_count": 39,
   "id": "476e060f-fd7b-40de-b88c-3b7fee3a790c",
   "metadata": {},
   "outputs": [
    {
     "data": {
      "image/png": "[encoded data removed]",
      "text/plain": [
       "<Figure size 800x500 with 2 Axes>"
      ]
     },
     "metadata": {},
     "output_type": "display_data"
    }
   ],
   "source": [
    "import matplotlib.pyplot as plt\n",
    "import numpy as np\n",
    "\n",
    "#MSE ve R2 skorları (önceki örneklerde aldığımız çıktılar)\n",
    "models = [\"Linear\", \"Ridge\", \"Lasso\"]\n",
    "mse_scores = [2900.19, 2856.49, 3403.58]\n",
    "r2_scores = [0.4526, 0.4609, 0.3576]\n",
    "\n",
    "x = np.arange(len(models))\n",
    "width = 0.35\n",
    "\n",
    "fig, ax1 = plt.subplots(figsize=(8,5))\n",
    "\n",
    "#MSE çubuğu\n",
    "bars1 = ax1.bar(x - width/2, mse_scores, width, label='MSE', color='tomato')\n",
    "ax1.set_ylabel('Mean Squared Error (Düşük = İyi)', color='tomato')\n",
    "ax1.set_ylim(0, max(mse_scores)*1.2)\n",
    "ax1.tick_params(axis='y', labelcolor='tomato')\n",
    "\n",
    "#R2 için ikinci y ekseni\n",
    "ax2 = ax1.twinx()\n",
    "bars2 = ax2.bar(x + width/2, r2_scores, width, label='R^2', color='royalblue')\n",
    "ax2.set_ylabel('R^2 Skoru (Yüksek = İyi)', color='royalblue')\n",
    "ax2.set_ylim(0, 1)\n",
    "ax2.tick_params(axis='y', labelcolor='royalblue')\n",
    "\n",
    "#ortak ayarlar\n",
    "plt.xticks(x, models)\n",
    "plt.title('Linear vs Ridge vs Lasso Karşılaştırması')\n",
    "fig.tight_layout()\n",
    "plt.show()"
   ]
  },
  {
   "cell_type": "markdown",
   "id": "de2cc3ea-7006-48c7-ba66-a731bbbc5bc9",
   "metadata": {},
   "source": [
    "GridSearchCV\n",
    "* Belirlediğin hiperparametreler için deneme_yanılma yapar.\n",
    "* Her kombinasyon için cross-validation uygular. => En iyisini seçer.\n",
    "\n",
    "* Biz Ridge ve Lasso için alpha değerini arayacağız.\n",
    "* (Regularizasyon gücünü belirler => 0 => Ceza yok, çok büyükse model boğulur.)"
   ]
  },
  {
   "cell_type": "code",
   "execution_count": 43,
   "id": "5830a01e-5620-4faf-80b0-1d970a3b1c5d",
   "metadata": {},
   "outputs": [
    {
     "name": "stdout",
     "output_type": "stream",
     "text": [
      "Ridge En İyi Alpha: {'alpha': 0.1}\n",
      "Ridge En İyi R^2 (cross-val): 0.45647798015266466\n"
     ]
    }
   ],
   "source": [
    "#Ridge için GridSearchCV\n",
    "from sklearn.linear_model import Ridge\n",
    "from sklearn.model_selection import GridSearchCV\n",
    "\n",
    "ridge_params = {'alpha': [0.01, 0.1, 1, 10, 100]}\n",
    "ridge = Ridge()\n",
    "ridge_grid = GridSearchCV(ridge, ridge_params, cv=5, scoring='r2')\n",
    "ridge_grid.fit(X_train, y_train)\n",
    "\n",
    "#en iyi sonuçları yazdıralım\n",
    "print(\"Ridge En İyi Alpha:\", ridge_grid.best_params_)\n",
    "print(\"Ridge En İyi R^2 (cross-val):\", ridge_grid.best_score_)"
   ]
  },
  {
   "cell_type": "code",
   "execution_count": 45,
   "id": "1a1f1dfe-c355-4cc7-b9ef-2ad33a0483ad",
   "metadata": {},
   "outputs": [
    {
     "name": "stdout",
     "output_type": "stream",
     "text": [
      "Lasso En İyi alpha: {'alpha': 0.1}\n",
      "Lasso En İyi R² (cross-val): 0.4555104983088939\n"
     ]
    }
   ],
   "source": [
    "#Lasso için GridSearchCV\n",
    "from sklearn.linear_model import Lasso\n",
    "\n",
    "lasso_params = {'alpha': [0.01, 0.1, 1, 10, 100]}\n",
    "lasso = Lasso(max_iter=10000)\n",
    "lasso_grid = GridSearchCV(lasso, lasso_params, cv=5, scoring='r2')\n",
    "lasso_grid.fit(X_train, y_train)\n",
    "\n",
    "print(\"Lasso En İyi alpha:\", lasso_grid.best_params_)\n",
    "print(\"Lasso En İyi R² (cross-val):\", lasso_grid.best_score_)\n"
   ]
  },
  {
   "cell_type": "markdown",
   "id": "e2be6b1e-e109-4d82-81a2-1cd0eae46672",
   "metadata": {},
   "source": [
    "ElasticNet Nedir?\n",
    "* ElasticNet, Ridge(L2) ve Lasso(L1) regularizasyonlarının karışımıdır.\n",
    "* Loss = MSE + alpha * (r * L1 + (1 - r) * L2)\n",
    "  * alpha: ceza katsayısı (tüm regularizasyonun ne kadar güçlü olacağı)\n",
    "  * l1_ratio: Lasso mu daha baskın olsun yoksa Ridge mi?\n",
    "    * 1.0 => %100 Lasso\n",
    "    * 0.0 => %100 Ridge\n",
    "    * 0.5 => Karışım (L1 ve L2 eşit)"
   ]
  },
  {
   "cell_type": "code",
   "execution_count": 48,
   "id": "2e75d29d-b0f9-4997-ae35-66195e202657",
   "metadata": {},
   "outputs": [
    {
     "name": "stdout",
     "output_type": "stream",
     "text": [
      "ElasticNet MSE: 5311.21282167187\n",
      "ElasticNet R^2: -0.0024652131111431164\n",
      "Kullanılan Katsayılar: [ 0.40100389  0.          3.41353382  2.32614375  0.4595766   0.12555225\n",
      " -1.78311241  2.12401019  3.07139136  1.90618344]\n"
     ]
    }
   ],
   "source": [
    "from sklearn.linear_model import ElasticNet\n",
    "from sklearn.metrics import mean_squared_error, r2_score\n",
    "\n",
    "#model oluştur\n",
    "elastic = ElasticNet(alpha=1.0, l1_ratio=0.5, max_iter=10000)\n",
    "elastic.fit(X_train, y_train)\n",
    "\n",
    "#tahmin\n",
    "y_pred = elastic.predict(X_test)\n",
    "\n",
    "#skorları hesapla\n",
    "print(\"ElasticNet MSE:\", mean_squared_error(y_test, y_pred))\n",
    "print(\"ElasticNet R^2:\", r2_score(y_test, y_pred))\n",
    "print(\"Kullanılan Katsayılar:\", elastic.coef_)"
   ]
  },
  {
   "cell_type": "markdown",
   "id": "73dedc40-53cc-4bd1-8627-9c8beae27996",
   "metadata": {},
   "source": [
    "ElasticNet Ne İşe Yarar?\n",
    "* Eğer çok sayıda ve korelasyonlu özellik varsa => Lasso yetersiz kalabilir.\n",
    "* ElasticNet, hem sıfırlama (L1) hem dengeleme (L2) sağlar.\n",
    "* Genelde yüksek boyutlu verilerde çok işe yarar. (örneğin: metin, genetik, vb.)"
   ]
  },
  {
   "cell_type": "markdown",
   "id": "0d4b104a-19c7-4e57-8d13-850e7ae3b852",
   "metadata": {},
   "source": [
    "Polynomial Regression Nedir?\n",
    "* Bu yöntemle doğrusal olmayan (non-linear) ilişkileri daha iyi modelleyebiliriz. Yani verideki \"eğri\" yapıları da yakalayabiliriz.\n",
    "* Linear Regression şu şekilde çalışır:\n",
    "  * y = b0 + b1x\n",
    "* Ama Polynomial Regression şöyle olur mesela:\n",
    "  * y = b0 + b1x + b2x^2 + b3x^3 + ...\n",
    "* Özelliklerin üstünü alarak yeni sütunlar üretir.\n",
    "* Model hala \"doğrusal regresyon\", ama özellikler polinom."
   ]
  },
  {
   "cell_type": "code",
   "execution_count": 52,
   "id": "6d6c1d67-e31a-48f0-94f9-d7e2712da851",
   "metadata": {},
   "outputs": [
    {
     "name": "stdout",
     "output_type": "stream",
     "text": [
      "Polinom Derece 2 MSE: 3096.0283073442656\n",
      "Polinom Derece 2 R²: 0.4156399336408013\n"
     ]
    }
   ],
   "source": [
    "from sklearn.preprocessing import PolynomialFeatures\n",
    "from sklearn.linear_model import LinearRegression\n",
    "from sklearn.pipeline import make_pipeline\n",
    "from sklearn.metrics import mean_squared_error, r2_score\n",
    "\n",
    "# Polinom derecesi belirle\n",
    "degree = 2\n",
    "\n",
    "# Pipeline ile Polynomial + LinearRegression birleştir\n",
    "poly_model = make_pipeline(PolynomialFeatures(degree), LinearRegression())\n",
    "poly_model.fit(X_train, y_train)\n",
    "\n",
    "# Tahmin yap\n",
    "y_pred = poly_model.predict(X_test)\n",
    "\n",
    "# Skorları yazdır\n",
    "print(f\"Polinom Derece {degree} MSE:\", mean_squared_error(y_test, y_pred))\n",
    "print(f\"Polinom Derece {degree} R²:\", r2_score(y_test, y_pred))"
   ]
  },
  {
   "cell_type": "markdown",
   "id": "54a4eb56-62d9-40cf-89db-107f6a1bba07",
   "metadata": {},
   "source": [
    "Notlar:\n",
    "* degree=2 => kareli terimler ekler (X^2)\n",
    "* degree=3 => küplü terimler (X^3) de dahil olur\n",
    "* Dikkat: Derece büyüdükçe aşırı öğrenme (overfitting) riski artar.\n",
    "\n",
    "Yukarıdaki Kodun Çıktıları Ne Anlam İfade Ediyor?\n",
    "1. MSE (Mean Squared Error) - Ortalama Kare Hata\n",
    "   * Modelin tahminleri ile gerçek değerler arasındaki farkların karesinin ortalaması.\n",
    "   * Düşükse iyidir. (hatamız az demektir)\n",
    "\n",
    "2. R^2 (R-Kare Skoru) - Açıklanan Varyans\n",
    "   * Modelin verideki değişkenliği ne kadar açıkladığını  gösterir.\n",
    "   * 1.0: Mükemmel açıklıyor.\n",
    "   * 0.0: Hiç açıklamıyor.\n",
    "   * < 0: Rastgele modelden kötü\n",
    "   * Bizimki 0.4156. Yani polinom derece 2 model, test verisindeki hedef değişkenin yaklaşık %41.5'ini açıklayabiliyor.\n",
    "\n",
    "Yorum:\n",
    "* Bu skor, düz Linear Regression'dan biraz daha düşük olmuşsa: Polinomsallık aşırıya kaçmış olabilir ya da aslında veri çok eğri olmayabilir.\n",
    "* Ridge'de R^2: 0.46, burada 0.415 yani çok daha iyi değil.\n",
    "\n",
    "Ne Yapılabilir?\n",
    "1. degree = 3 veya 4 yaparak skor artıyor mu bakabiliriz ama overfittinge dikkat etmeliyiz.\n",
    "2. make_pipeline(PolynomialFeatures(degree), Ridge()) gibi kombinasyonlar denenebilir.\n",
    "3. Gerçekten eğri bir ilişki olup olmadığını görselleştirmek çok yardımcı olur. (özellik vs hedef grafik)"
   ]
  },
  {
   "cell_type": "markdown",
   "id": "ce836faa-aa40-4534-b03c-c58956bc89bf",
   "metadata": {},
   "source": [
    "R^2 Kıyaslayalım:\n",
    "\n",
    "Amaç:\n",
    "1. Farklı degree değerleri (1'den 5'e kadar) için polinom model kuracağız\n",
    "2. Her biri için R^2 skorunu hesaplayacağız\n",
    "3. Sonucu grafikle görselleştireceğiz"
   ]
  },
  {
   "cell_type": "code",
   "execution_count": 63,
   "id": "aa68e8bb-0345-4a72-a5ac-a2355ef541b4",
   "metadata": {},
   "outputs": [
    {
     "name": "stdout",
     "output_type": "stream",
     "text": [
      "Degree 1 => R^2: 0.4526\n",
      "Degree 2 => R^2: 0.4156\n",
      "Degree 3 => R^2: -15.5403\n",
      "Degree 4 => R^2: -26.7281\n",
      "Degree 5 => R^2: -25.9943\n"
     ]
    },
    {
     "data": {
      "image/png": "[encoded data removed]",
      "text/plain": [
       "<Figure size 800x400 with 1 Axes>"
      ]
     },
     "metadata": {},
     "output_type": "display_data"
    }
   ],
   "source": [
    "import numpy as np\n",
    "import matplotlib.pyplot as plt\n",
    "from sklearn.preprocessing import PolynomialFeatures\n",
    "from sklearn.linear_model import LinearRegression\n",
    "from sklearn.pipeline import make_pipeline\n",
    "from sklearn.metrics import r2_score\n",
    "\n",
    "degrees = [1, 2, 3, 4, 5]\n",
    "r2_scores = []\n",
    "\n",
    "for d in degrees:\n",
    "    model = make_pipeline(PolynomialFeatures(degree=d), LinearRegression())\n",
    "    model.fit(X_train, y_train)\n",
    "    y_pred = model.predict(X_test)\n",
    "    score = r2_score(y_test, y_pred)\n",
    "    r2_scores.append(score)\n",
    "    print(f\"Degree {d} => R^2: {score:.4f}\")\n",
    "\n",
    "#Grafikle görelim\n",
    "plt.figure(figsize=(8, 4))\n",
    "plt.plot(degrees, r2_scores, marker='o', color='crimson')\n",
    "plt.title(\"Polinom Derecesine Göre R^2 Skoru\")\n",
    "plt.xlabel(\"Polinom Derecesi\")\n",
    "plt.ylabel(\"R^2 Skoru\")\n",
    "plt.grid(True)\n",
    "plt.show()"
   ]
  },
  {
   "cell_type": "markdown",
   "id": "636c43ae-e33a-4d34-99b5-40b0fc107e6a",
   "metadata": {},
   "source": [
    "Yorum Yapmak İçin:\n",
    "* R^2 bir noktadan sonra azalmaya başlarsa, bu aşırı öğrenme (overfitting)'in işaretidir.\n",
    "* Genellikle 2 veya 3 iyi bir değerdir. (yukarıdaki grafikte değil 1-2)\n",
    "* Grafik bize, \"hangi derece en uygun\" sorusunun cevabını verir.\n",
    "\n",
    "Grafik Sonuçları:\n",
    "| Polinom Derecesi | R² Skoru     | Yorum                                           |\n",
    "| ---------------- | ------------ | ----------------------------------------------- |\n",
    "| 1                | **0.4526**   | En iyi skor — klasik Linear Regression          |\n",
    "| 2                | 0.4156       | Biraz düşüş — fazla bir fayda sağlamamış        |\n",
    "| 3                | **-15.5403** | Model tamamen sapıtmış (aşırı öğrenme)         |\n",
    "| 4                | -26.7281     | Daha da kötü — ezberlemiş ama genelleyememiş   |\n",
    "| 5                | -25.9943     | Hâlâ çok kötü — testte başarısız                |\n",
    " \n",
    "* Degree 1 (doğrusal regresyon) en iy sonucu verdi: R^2 = 0.4526\n",
    "* Dereceyi artırdıkçe R^2 önce azaldı, sonra negatif oldu.\n",
    "* Negatif R^2 => Model, sabit ortalama tahmininden bile kötü demektir.\n",
    "\n",
    "Neden Böyle Oldu?\n",
    "* Veri yapısı basit ve çok karmaşık modele gerek yok.\n",
    "* PolynomialFeatures ile üretilen yeni özellikler aşırı karmaşık hale geliyor.\n",
    "* Model eğitim verisinin \"ezberliyor\" ama testte patlıyor. (Overfitting)\n",
    "\n",
    "Öneriler:\n",
    "* Bu veri için Linear Regression yeterli. Polinomsal modele gerek yok.\n",
    "* Daha büyük ve eğrisel veri olursa Polynomial Regression işe yarabilir.\n",
    "* Alternatif olarak, Ridge veya Lasso ile overfitting'i kontrol edebilirdik."
   ]
  },
  {
   "cell_type": "markdown",
   "id": "8f4ece2c",
   "metadata": {},
   "source": [
    "Diğer Regresyon Modelleri\n",
    "1. Decision Tree Regressor\n",
    "* Karar ağaçlarıyla çalışır.\n",
    "* Veri bölme mantığına dayanır.\n",
    "* Görselleştirmesi kolaydır.\n",
    "* Overfitting riski yüksek ama güçlüdür.\n",
    "\n",
    "2. Random Forest Regressor\n",
    "* Çok sayıda karar ağacı + oylama.\n",
    "* Overfitting'i azaltır.\n",
    "* Genellikle çok güçlü performans verir.\n",
    "\n",
    "3. Support Vector Regressor (SVR)\n",
    "* SVC'nin regresyon versiyonu.\n",
    "* Düzlemler yerine \"margin\" içinde kalan tahminler.\n",
    "* Çok iyi ölçekleme gerektirir. => StandardScaler şart\n",
    "\n",
    "4. Gradient Boosting Regressor\n",
    "* Zayıf modelleri ardışık şekilde birleştirir.\n",
    "* Genelde en yüksek doğruluğu verir.\n",
    "* Ama eğitim süresi uzun olabilir"
   ]
  }
 ],
 "metadata": {
  "kernelspec": {
   "display_name": "Python 3 (ipykernel)",
   "language": "python",
   "name": "python3"
  },
  "language_info": {
   "codemirror_mode": {
    "name": "ipython",
    "version": 3
   },
   "file_extension": ".py",
   "mimetype": "text/x-python",
   "name": "python",
   "nbconvert_exporter": "python",
   "pygments_lexer": "ipython3",
   "version": "3.11.4"
  }
 },
 "nbformat": 4,
 "nbformat_minor": 5
}
